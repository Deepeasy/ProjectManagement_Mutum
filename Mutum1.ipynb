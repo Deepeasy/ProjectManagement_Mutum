{
 "cells": [
  {
   "cell_type": "code",
   "execution_count": 28,
   "id": "8e560640",
   "metadata": {
    "ExecuteTime": {
     "end_time": "2024-10-04T16:00:16.412759Z",
     "start_time": "2024-10-04T16:00:16.395771Z"
    }
   },
   "outputs": [],
   "source": [
    "import datetime\n",
    "import pandas as pd\n",
    "import matplotlib.pyplot as plt\n",
    "import networkx as nx\n",
    "from criticalpath import Node\n",
    "import plotly.graph_objects as go"
   ]
  },
  {
   "cell_type": "code",
   "execution_count": 3,
   "id": "0372b397",
   "metadata": {
    "ExecuteTime": {
     "end_time": "2024-10-04T15:44:22.868342Z",
     "start_time": "2024-10-04T15:44:22.858965Z"
    }
   },
   "outputs": [],
   "source": [
    "x1a_duration=6\n",
    "x1b_duration=6\n",
    "x1c_duration=6\n",
    "task = [('X1A',{'Duration':x1a_duration}),('X1B',{'Duration':x1b_duration}),('X1C',{'Duration':x1c_duration}),('X2',{'Duration':1}),('X3',{'Duration':1}),\n",
    "        ('X4',{'Duration':1}),('X5',{'Duration':4}),('X6',{'Duration':6}),('X7',{'Duration':4}),('X8',{'Duration':1}),\n",
    "        ('X9',{'Duration':2}),('X10',{'Duration':1}),('X11',{'Duration':1}),('X12',{'Duration':1}),('X13',{'Duration':1}),\n",
    "        ('X14',{'Duration':5}),('X15',{'Duration':7}),('X16',{'Duration':5}),('X17',{'Duration':7}),('X18',{'Duration':10}),\n",
    "        ('X19',{'Duration':7}),('X20',{'Duration':3}),('X21',{'Duration':5}),('X22',{'Duration':3}),('X23',{'Duration':6}),\n",
    "        ('X24',{'Duration':8}),('X25',{'Duration':2}),('X26',{'Duration':4}),('X27',{'Duration':5}),('X28',{'Duration':7}),\n",
    "        ]\n",
    "\n",
    "# Define dependency\n",
    "depend = [('X1A','X2'),('X1A','X5'),('X1B','X3'),('X1B','X6'),('X1C','X4'),('X1C','X7'),\n",
    "          ('X2','X8'),('X5','X8'),('X3','X9'),('X6','X9'),('X4','X10'),('X7','X10'),('X8','X11'),('X8','X14'),('X9','X12'),\n",
    "          ('X9','X15'),('X10','X13'),('X10','X16'),('X11','X17'),('X14','X17'),('X12','X18'),('X15','X18'),('X13','X19'),\n",
    "          ('X16','X19'),('X17','X20'),('X18','X21'),('X19','X22'),('X17','X23'),('X18','X24'),('X23','X25'),('X24','X25'),\n",
    "          ('X25','X26'),('X25','X27'),('X20','X28'),('X26','X28'),('X27','X28'),('X21','X28'),('X22','X28')]"
   ]
  },
  {
   "cell_type": "code",
   "execution_count": 4,
   "id": "cd30240a",
   "metadata": {
    "ExecuteTime": {
     "end_time": "2024-10-04T15:44:29.347134Z",
     "start_time": "2024-10-04T15:44:29.338911Z"
    }
   },
   "outputs": [],
   "source": [
    "pos_nodes = {\"X1A\": (51, 81),\n",
    "             \"X1B\": (51, 54),\n",
    "             \"X1C\": (51, 24),\n",
    "             \"X2\": (87, 81),\n",
    "             \"X3\": (87, 54), \n",
    "             \"X4\": (87, 27), \n",
    "             \"X5\": (87, 66),\n",
    "             \"X6\": (87, 39),\n",
    "             \"X7\": (87, 12),\n",
    "             \"X8\": (114, 75),\n",
    "             \"X9\": (114, 48),\n",
    "             \"X10\": (114, 18),\n",
    "             \"X11\": (141, 81),\n",
    "             \"X12\": (141, 54),\n",
    "             \"X13\": (141, 24),\n",
    "             \"X14\": (141, 69),\n",
    "             \"X15\": (141, 39), \n",
    "             \"X16\": (141, 12), \n",
    "             \"X17\": (171, 75), \n",
    "             \"X18\": (171, 48), \n",
    "             \"X19\": (171, 18),\n",
    "             \"X20\": (204, 75),\n",
    "             \"X21\": (204, 54),\n",
    "             \"X22\": (204, 18),\n",
    "             \"X23\": (204, 60),\n",
    "             \"X24\": (204, 33),\n",
    "             \"X25\": (231, 48),\n",
    "             \"X26\": (261, 54),\n",
    "             \"X27\": (261, 42),\n",
    "             \"X28\": (288, 48)}"
   ]
  },
  {
   "cell_type": "code",
   "execution_count": 5,
   "id": "0e3fd35f",
   "metadata": {
    "ExecuteTime": {
     "end_time": "2024-10-04T15:44:49.003962Z",
     "start_time": "2024-10-04T15:44:48.994239Z"
    }
   },
   "outputs": [],
   "source": [
    "def forward_pass(df):\n",
    "    ES = [0] * len(df)\n",
    "    EF = [0] * len(df)\n",
    "\n",
    "    for i, row in df.iterrows():\n",
    "        if row['Predecessors'] == 'None':  # If no predecessors, start at time 0\n",
    "            ES[i] = 0\n",
    "        else:\n",
    "            preds = row['Predecessors'].split(', ')  # Get all predecessors\n",
    "            ES[i] = max([EF[df[df['Task'] == p].index[0]] for p in preds])  # Max EF of predecessors\n",
    "        EF[i] = ES[i] + row['Duration']  # EF = ES + Duration\n",
    "\n",
    "    df['ES'] = ES\n",
    "    df['EF'] = EF\n",
    "    return df\n",
    "\n",
    "# Backward pass\n",
    "def backward_pass(df):\n",
    "    LS = [0] * len(df)\n",
    "    LF = [0] * len(df)\n",
    "\n",
    "    max_EF = df['EF'].max()\n",
    "    for i in reversed(range(len(df))):\n",
    "        row = df.iloc[i]\n",
    "        # Check if the task has successors (tasks with this task as predecessor)\n",
    "        successors = df[df['Predecessors'].str.contains(row['Task'], na=False)]\n",
    "        if successors.empty:  # If no successors, set LF to max EF\n",
    "            LF[i] = max_EF\n",
    "        else:\n",
    "            LF[i] = min([LS[df[df['Task'] == s].index[0]] for s in successors['Task']])\n",
    "        LS[i] = LF[i] - row['Duration']\n",
    "\n",
    "    df['LS'] = LS\n",
    "    df['LF'] = LF\n",
    "    return df\n",
    "\n",
    "# Calculate Slack and Critical Path\n",
    "def calculate_slack_and_critical(df):\n",
    "    df['Slack'] = df['LS'] - df['ES']\n",
    "    df['Critical'] = df['Slack'] == 0  # Critical if Slack is 0\n",
    "    return df"
   ]
  },
  {
   "cell_type": "code",
   "execution_count": 6,
   "id": "898f392c",
   "metadata": {
    "ExecuteTime": {
     "end_time": "2024-10-04T15:45:15.023224Z",
     "start_time": "2024-10-04T15:45:15.010435Z"
    }
   },
   "outputs": [],
   "source": [
    "# Create task dictionary\n",
    "taskDict = {t[0]: t[1]['Duration'] for t in task}\n",
    "\n",
    "# Create predecessor and successor dictionaries\n",
    "predecessors = {t[0]: [] for t in task}\n",
    "successors = {t[0]: [] for t in task}\n",
    "\n",
    "# Populate predecessor and successor dictionaries\n",
    "for dep in depend:\n",
    "    predecessors[dep[1]].append(dep[0])\n",
    "    successors[dep[0]].append(dep[1])\n",
    "\n",
    "# Convert the data into a DataFrame for easy viewing\n",
    "data = {\n",
    "    'Task': list(taskDict.keys()),\n",
    "    'Duration': list(taskDict.values()),\n",
    "    'Predecessors': [', '.join(predecessors[task]) if predecessors[task] else 'None' for task in taskDict],\n",
    "    'Successors': [', '.join(successors[task]) if successors[task] else 'None' for task in taskDict]\n",
    "}\n",
    "\n",
    "df = pd.DataFrame(data)\n",
    "\n"
   ]
  },
  {
   "cell_type": "code",
   "execution_count": 17,
   "id": "3d4684bd",
   "metadata": {
    "ExecuteTime": {
     "end_time": "2024-10-04T15:52:38.580038Z",
     "start_time": "2024-10-04T15:52:38.560023Z"
    }
   },
   "outputs": [],
   "source": [
    "def check_critical_path_change_with_cost(task_to_modify, new_duration):\n",
    "    global global_df  # Use the global variable to access the original DataFrame\n",
    "\n",
    "    # Step 1: Create a local copy of the global DataFrame to perform operations\n",
    "    df = global_df.copy()\n",
    "\n",
    "    # Step 2: Calculate the initial critical path\n",
    "    original_df = df.copy()\n",
    "    original_df = forward_pass(original_df)\n",
    "    original_df = backward_pass(original_df)\n",
    "    original_df = calculate_slack_and_critical(original_df)\n",
    "    initial_critical_path = original_df[original_df['Critical'] == True]['Task'].tolist()\n",
    "\n",
    "    # Step 3: Modify the specified task's duration (e.g., X5)\n",
    "    original_duration = df.loc[df['Task'] == task_to_modify, 'Duration'].values[0]  # Store the original duration\n",
    "    df.loc[df['Task'] == task_to_modify, 'Duration'] = new_duration  # Temporarily change the duration\n",
    "\n",
    "    # Step 4: Recalculate the critical path after modifying the task's duration\n",
    "    modified_df = forward_pass(df)\n",
    "    modified_df = backward_pass(modified_df)\n",
    "    modified_df = calculate_slack_and_critical(modified_df)\n",
    "    modified_critical_path = modified_df[modified_df['Critical'] == True]['Task'].tolist()\n",
    "\n",
    "\n",
    "    # Step 5: Compare the initial and modified critical paths\n",
    "    critical_path_changed = initial_critical_path != modified_critical_path\n",
    "\n",
    "    \n",
    "\n",
    "    # Step 6: Revert the duration of the task to its original value\n",
    "    global_df.loc[global_df['Task'] == task_to_modify, 'Duration'] = original_duration  # Restore original duration\n",
    "\n",
    "    return initial_critical_path, modified_critical_path, critical_path_changed \n"
   ]
  },
  {
   "cell_type": "code",
   "execution_count": 18,
   "id": "73b81dd9",
   "metadata": {
    "ExecuteTime": {
     "end_time": "2024-10-04T15:52:43.279443Z",
     "start_time": "2024-10-04T15:52:43.218287Z"
    }
   },
   "outputs": [],
   "source": [
    "global_df = df.copy()\n",
    "\n",
    "def iterative_x18_reduction():\n",
    "    global global_df\n",
    "    \n",
    "    # Initialize the duration of X18 to 10 (as per the given problem)\n",
    "    x18_duration = 10\n",
    "\n",
    "    # Step 1: Set the durations for X20, X21, and X22\n",
    "    x20_new_duration = 1.5\n",
    "    x21_new_duration = 2.5\n",
    "    x22_new_duration = 3\n",
    "\n",
    "    # Step 2: Start iterating to reduce X18\n",
    "    while x18_duration >= 5:\n",
    "        # Modify X18 duration by reducing 1 unit iteratively\n",
    "        global_df.loc[global_df['Task'] == 'X18', 'Duration'] = x18_duration\n",
    "\n",
    "        # Recalculate project duration after reducing X18\n",
    "        df = forward_pass(global_df.copy())\n",
    "        df = backward_pass(df)\n",
    "        df = calculate_slack_and_critical(df)\n",
    "        \n",
    "        project_duration = df[df['Critical'] == True]['EF'].max()\n",
    "        \n",
    "        \n",
    "        # Step 3: Check if project duration is still greater than 56\n",
    "        if project_duration <= 56:\n",
    "            break  # Exit loop if project duration is optimized to be less than or equal to 56 weeks\n",
    "        \n",
    "        # Step 4: If the project duration is still greater than 56\n",
    "        if project_duration > 56:\n",
    "            critical_tasks = df[df['Critical'] == True]['Task'].tolist()\n",
    "            \n",
    "            # Step 5: Check if X20, X21, or X22 are on the critical path\n",
    "            if any(task in critical_tasks for task in ['X20', 'X21', 'X22']):\n",
    "                print(\"Critical path contains X20, X21, or X22. Adjusting their durations...\")\n",
    "\n",
    "                # Modify the durations of X20, X21, and X22\n",
    "                if 'X20' in critical_tasks:\n",
    "                    global_df.loc[global_df['Task'] == 'X20', 'Duration'] = x20_new_duration\n",
    "                    print(f\"X20 duration set to {x20_new_duration} weeks.\")\n",
    "                if 'X21' in critical_tasks:\n",
    "                    global_df.loc[global_df['Task'] == 'X21', 'Duration'] = x21_new_duration\n",
    "                    print(f\"X21 duration set to {x21_new_duration} weeks.\")\n",
    "                if 'X22' in critical_tasks:\n",
    "                    global_df.loc[global_df['Task'] == 'X22', 'Duration'] = x22_new_duration\n",
    "                    print(f\"X22 duration set to {x22_new_duration} weeks.\")\n",
    "                \n",
    "                # Restart the reduction process for X18 after adjusting X20, X21, X22\n",
    "                print(f\"Restarting X18 reduction process after adjusting X20, X21, and X22...\")\n",
    "                x18_duration = 10  # Reset X18 to the original value to restart reduction\n",
    "            else:\n",
    "                # Reduce X18 duration further\n",
    "                x18_duration -= 1\n",
    "    \n",
    "    \n",
    "        \n",
    "\n",
    "# Run the iterative function\n",
    "iterative_x18_reduction()\n"
   ]
  },
  {
   "cell_type": "code",
   "execution_count": 19,
   "id": "f219b2d4",
   "metadata": {
    "ExecuteTime": {
     "end_time": "2024-10-04T15:52:47.484157Z",
     "start_time": "2024-10-04T15:52:47.427768Z"
    }
   },
   "outputs": [],
   "source": [
    "def optimize_project_duration_with_cost():\n",
    "    global global_df\n",
    "\n",
    "    # Step 1: Calculate the initial project duration based on the critical path\n",
    "    df = global_df.copy()\n",
    "    df = forward_pass(df)\n",
    "    df = backward_pass(df)\n",
    "    df = calculate_slack_and_critical(df)\n",
    "\n",
    "    # Find the total project duration (Max EF of the critical path tasks)\n",
    "    project_duration = df[df['Critical'] == True]['EF'].max()\n",
    "\n",
    "    # Initialize task durations\n",
    "    x27_duration = 2\n",
    "    x5_duration = 2\n",
    "    x6_duration = 3\n",
    "    x7_duration = 2\n",
    "    x18_duration = 5\n",
    "    x20_duration = 1.5\n",
    "    x21_duration = 2.5\n",
    "    x22_duration = 1.5\n",
    "\n",
    "    # Step 2: If project duration is greater than 56 weeks, try to reduce it by modifying tasks\n",
    "    if project_duration > 56:\n",
    "        \n",
    "        # Modify task X27 first\n",
    "        result_x27 = check_critical_path_change_with_cost('X27', new_duration=x27_duration)\n",
    "        global_df.loc[global_df['Task'] == 'X27', 'Duration'] = x27_duration\n",
    "\n",
    "        # Recalculate the project duration after modifying X27\n",
    "        df = forward_pass(global_df.copy())\n",
    "        df = backward_pass(df)\n",
    "        df = calculate_slack_and_critical(df)\n",
    "        project_duration = df[df['Critical'] == True]['EF'].max()\n",
    "\n",
    "        # Step 3: If project duration is greater than 56 weeks and the critical path changes, modify other tasks\n",
    "        if project_duration > 56:\n",
    "            \n",
    "            # Modify X5\n",
    "            result_x5 = check_critical_path_change_with_cost('X5', new_duration=x5_duration)\n",
    "            global_df.loc[global_df['Task'] == 'X5', 'Duration'] = x5_duration\n",
    "\n",
    "            # Modify X6\n",
    "            result_x6 = check_critical_path_change_with_cost('X6', new_duration=x6_duration)\n",
    "            global_df.loc[global_df['Task'] == 'X6', 'Duration'] = x6_duration\n",
    "\n",
    "            # Modify X7\n",
    "            result_x7 = check_critical_path_change_with_cost('X7', new_duration=x7_duration)\n",
    "            global_df.loc[global_df['Task'] == 'X7', 'Duration'] = x7_duration\n",
    "\n",
    "            # Recalculate the project duration after modifying X5, X6, and X7\n",
    "            df = forward_pass(global_df.copy())\n",
    "            df = backward_pass(df)\n",
    "            df = calculate_slack_and_critical(df)\n",
    "            project_duration = df[df['Critical'] == True]['EF'].max()\n",
    "\n",
    "            # Step 4: If project duration is still greater than 56 weeks, call iterative_x18_reduction()\n",
    "            if project_duration > 56:\n",
    "                iterative_x18_reduction()  # Further reduction of X18 to optimize project duration\n",
    "        else:\n",
    "            # Update the project duration with the adjustments if within the threshold\n",
    "            global_df = df.copy()\n",
    "\n",
    "            \n",
    "            \n",
    "# Run the optimization function\n",
    "optimize_project_duration_with_cost()\n"
   ]
  },
  {
   "cell_type": "code",
   "execution_count": 20,
   "id": "01e03a24",
   "metadata": {
    "ExecuteTime": {
     "end_time": "2024-10-04T15:53:59.339975Z",
     "start_time": "2024-10-04T15:52:55.127179Z"
    }
   },
   "outputs": [
    {
     "data": {
      "text/html": [
       "<div>\n",
       "<style scoped>\n",
       "    .dataframe tbody tr th:only-of-type {\n",
       "        vertical-align: middle;\n",
       "    }\n",
       "\n",
       "    .dataframe tbody tr th {\n",
       "        vertical-align: top;\n",
       "    }\n",
       "\n",
       "    .dataframe thead th {\n",
       "        text-align: right;\n",
       "    }\n",
       "</style>\n",
       "<table border=\"1\" class=\"dataframe\">\n",
       "  <thead>\n",
       "    <tr style=\"text-align: right;\">\n",
       "      <th></th>\n",
       "      <th>X1A</th>\n",
       "      <th>X1B</th>\n",
       "      <th>X1C</th>\n",
       "      <th>X5</th>\n",
       "      <th>X6</th>\n",
       "      <th>X7</th>\n",
       "      <th>X18</th>\n",
       "      <th>X20</th>\n",
       "      <th>X21</th>\n",
       "      <th>X22</th>\n",
       "      <th>X27</th>\n",
       "      <th>Project Duration</th>\n",
       "      <th>Critical Path</th>\n",
       "    </tr>\n",
       "  </thead>\n",
       "  <tbody>\n",
       "    <tr>\n",
       "      <th>0</th>\n",
       "      <td>6</td>\n",
       "      <td>6</td>\n",
       "      <td>6</td>\n",
       "      <td>4</td>\n",
       "      <td>6</td>\n",
       "      <td>4</td>\n",
       "      <td>10</td>\n",
       "      <td>3</td>\n",
       "      <td>5</td>\n",
       "      <td>3</td>\n",
       "      <td>5</td>\n",
       "      <td>53</td>\n",
       "      <td>[X1B, X6, X9, X15, X18, X24, X25, X27, X28]</td>\n",
       "    </tr>\n",
       "    <tr>\n",
       "      <th>1</th>\n",
       "      <td>6</td>\n",
       "      <td>6</td>\n",
       "      <td>16</td>\n",
       "      <td>4</td>\n",
       "      <td>6</td>\n",
       "      <td>4</td>\n",
       "      <td>10</td>\n",
       "      <td>3</td>\n",
       "      <td>5</td>\n",
       "      <td>3</td>\n",
       "      <td>5</td>\n",
       "      <td>53</td>\n",
       "      <td>[X1B, X6, X9, X15, X18, X24, X25, X27, X28]</td>\n",
       "    </tr>\n",
       "    <tr>\n",
       "      <th>2</th>\n",
       "      <td>6</td>\n",
       "      <td>6</td>\n",
       "      <td>17</td>\n",
       "      <td>4</td>\n",
       "      <td>6</td>\n",
       "      <td>4</td>\n",
       "      <td>10</td>\n",
       "      <td>3</td>\n",
       "      <td>5</td>\n",
       "      <td>3</td>\n",
       "      <td>5</td>\n",
       "      <td>53</td>\n",
       "      <td>[X1B, X6, X9, X15, X18, X24, X25, X27, X28]</td>\n",
       "    </tr>\n",
       "    <tr>\n",
       "      <th>3</th>\n",
       "      <td>6</td>\n",
       "      <td>6</td>\n",
       "      <td>18</td>\n",
       "      <td>4</td>\n",
       "      <td>6</td>\n",
       "      <td>4</td>\n",
       "      <td>10</td>\n",
       "      <td>3</td>\n",
       "      <td>5</td>\n",
       "      <td>3</td>\n",
       "      <td>5</td>\n",
       "      <td>53</td>\n",
       "      <td>[X1B, X6, X9, X15, X18, X24, X25, X27, X28]</td>\n",
       "    </tr>\n",
       "    <tr>\n",
       "      <th>4</th>\n",
       "      <td>6</td>\n",
       "      <td>6</td>\n",
       "      <td>19</td>\n",
       "      <td>4</td>\n",
       "      <td>6</td>\n",
       "      <td>4</td>\n",
       "      <td>10</td>\n",
       "      <td>3</td>\n",
       "      <td>5</td>\n",
       "      <td>3</td>\n",
       "      <td>5</td>\n",
       "      <td>53</td>\n",
       "      <td>[X1B, X6, X9, X15, X18, X24, X25, X27, X28]</td>\n",
       "    </tr>\n",
       "    <tr>\n",
       "      <th>...</th>\n",
       "      <td>...</td>\n",
       "      <td>...</td>\n",
       "      <td>...</td>\n",
       "      <td>...</td>\n",
       "      <td>...</td>\n",
       "      <td>...</td>\n",
       "      <td>...</td>\n",
       "      <td>...</td>\n",
       "      <td>...</td>\n",
       "      <td>...</td>\n",
       "      <td>...</td>\n",
       "      <td>...</td>\n",
       "      <td>...</td>\n",
       "    </tr>\n",
       "    <tr>\n",
       "      <th>338</th>\n",
       "      <td>21</td>\n",
       "      <td>21</td>\n",
       "      <td>17</td>\n",
       "      <td>2</td>\n",
       "      <td>3</td>\n",
       "      <td>2</td>\n",
       "      <td>5</td>\n",
       "      <td>3</td>\n",
       "      <td>5</td>\n",
       "      <td>3</td>\n",
       "      <td>2</td>\n",
       "      <td>59</td>\n",
       "      <td>[X1B, X6, X9, X15, X18, X24, X25, X26, X28]</td>\n",
       "    </tr>\n",
       "    <tr>\n",
       "      <th>339</th>\n",
       "      <td>21</td>\n",
       "      <td>21</td>\n",
       "      <td>18</td>\n",
       "      <td>2</td>\n",
       "      <td>3</td>\n",
       "      <td>2</td>\n",
       "      <td>5</td>\n",
       "      <td>3</td>\n",
       "      <td>5</td>\n",
       "      <td>3</td>\n",
       "      <td>2</td>\n",
       "      <td>59</td>\n",
       "      <td>[X1B, X6, X9, X15, X18, X24, X25, X26, X28]</td>\n",
       "    </tr>\n",
       "    <tr>\n",
       "      <th>340</th>\n",
       "      <td>21</td>\n",
       "      <td>21</td>\n",
       "      <td>19</td>\n",
       "      <td>2</td>\n",
       "      <td>3</td>\n",
       "      <td>2</td>\n",
       "      <td>5</td>\n",
       "      <td>3</td>\n",
       "      <td>5</td>\n",
       "      <td>3</td>\n",
       "      <td>2</td>\n",
       "      <td>59</td>\n",
       "      <td>[X1B, X6, X9, X15, X18, X24, X25, X26, X28]</td>\n",
       "    </tr>\n",
       "    <tr>\n",
       "      <th>341</th>\n",
       "      <td>21</td>\n",
       "      <td>21</td>\n",
       "      <td>20</td>\n",
       "      <td>2</td>\n",
       "      <td>3</td>\n",
       "      <td>2</td>\n",
       "      <td>5</td>\n",
       "      <td>3</td>\n",
       "      <td>5</td>\n",
       "      <td>3</td>\n",
       "      <td>2</td>\n",
       "      <td>59</td>\n",
       "      <td>[X1B, X6, X9, X15, X18, X24, X25, X26, X28]</td>\n",
       "    </tr>\n",
       "    <tr>\n",
       "      <th>342</th>\n",
       "      <td>21</td>\n",
       "      <td>21</td>\n",
       "      <td>21</td>\n",
       "      <td>2</td>\n",
       "      <td>3</td>\n",
       "      <td>2</td>\n",
       "      <td>5</td>\n",
       "      <td>3</td>\n",
       "      <td>5</td>\n",
       "      <td>3</td>\n",
       "      <td>2</td>\n",
       "      <td>59</td>\n",
       "      <td>[X1B, X6, X9, X15, X18, X24, X25, X26, X28]</td>\n",
       "    </tr>\n",
       "  </tbody>\n",
       "</table>\n",
       "<p>343 rows × 13 columns</p>\n",
       "</div>"
      ],
      "text/plain": [
       "     X1A  X1B  X1C  X5  X6  X7  X18  X20  X21  X22  X27  Project Duration  \\\n",
       "0      6    6    6   4   6   4   10    3    5    3    5                53   \n",
       "1      6    6   16   4   6   4   10    3    5    3    5                53   \n",
       "2      6    6   17   4   6   4   10    3    5    3    5                53   \n",
       "3      6    6   18   4   6   4   10    3    5    3    5                53   \n",
       "4      6    6   19   4   6   4   10    3    5    3    5                53   \n",
       "..   ...  ...  ...  ..  ..  ..  ...  ...  ...  ...  ...               ...   \n",
       "338   21   21   17   2   3   2    5    3    5    3    2                59   \n",
       "339   21   21   18   2   3   2    5    3    5    3    2                59   \n",
       "340   21   21   19   2   3   2    5    3    5    3    2                59   \n",
       "341   21   21   20   2   3   2    5    3    5    3    2                59   \n",
       "342   21   21   21   2   3   2    5    3    5    3    2                59   \n",
       "\n",
       "                                   Critical Path  \n",
       "0    [X1B, X6, X9, X15, X18, X24, X25, X27, X28]  \n",
       "1    [X1B, X6, X9, X15, X18, X24, X25, X27, X28]  \n",
       "2    [X1B, X6, X9, X15, X18, X24, X25, X27, X28]  \n",
       "3    [X1B, X6, X9, X15, X18, X24, X25, X27, X28]  \n",
       "4    [X1B, X6, X9, X15, X18, X24, X25, X27, X28]  \n",
       "..                                           ...  \n",
       "338  [X1B, X6, X9, X15, X18, X24, X25, X26, X28]  \n",
       "339  [X1B, X6, X9, X15, X18, X24, X25, X26, X28]  \n",
       "340  [X1B, X6, X9, X15, X18, X24, X25, X26, X28]  \n",
       "341  [X1B, X6, X9, X15, X18, X24, X25, X26, X28]  \n",
       "342  [X1B, X6, X9, X15, X18, X24, X25, X26, X28]  \n",
       "\n",
       "[343 rows x 13 columns]"
      ]
     },
     "execution_count": 20,
     "metadata": {},
     "output_type": "execute_result"
    }
   ],
   "source": [
    "def run_optimization_and_collect_results():\n",
    "    results = []  # To store results for each combination\n",
    "\n",
    "    # Iterate over the possible values of X1A, X1B, and X1C\n",
    "    for x1a_duration in (6, 16, 17, 18, 19, 20, 21):\n",
    "        for x1b_duration in (6, 16, 17, 18, 19, 20, 21):\n",
    "            for x1c_duration in (6, 16, 17, 18, 19, 20, 21):\n",
    "                \n",
    "                # Step 1: Set X1A, X1B, and X1C durations\n",
    "                global_df.loc[global_df['Task'] == 'X1A', 'Duration'] = x1a_duration\n",
    "                global_df.loc[global_df['Task'] == 'X1B', 'Duration'] = x1b_duration\n",
    "                global_df.loc[global_df['Task'] == 'X1C', 'Duration'] = x1c_duration\n",
    "\n",
    "                # Step 2: Run the optimization function\n",
    "                optimize_project_duration_with_cost()\n",
    "\n",
    "                # Step 3: Collect the final values after optimization\n",
    "                df = global_df.copy()  # Use the updated global dataframe\n",
    "                df = forward_pass(df)\n",
    "                df = backward_pass(df)\n",
    "                df = calculate_slack_and_critical(df)\n",
    "\n",
    "                # Get the critical path and final project duration\n",
    "                critical_path = df[df['Critical'] == True]['Task'].tolist()\n",
    "                project_duration = df[df['Critical'] == True]['EF'].max()\n",
    "\n",
    "                # Get the relevant task durations after optimization\n",
    "                x1a_final = df.loc[df['Task'] == 'X1A', 'Duration'].values[0]\n",
    "                x1b_final = df.loc[df['Task'] == 'X1B', 'Duration'].values[0]\n",
    "                x1c_final = df.loc[df['Task'] == 'X1C', 'Duration'].values[0]\n",
    "                x5_final = df.loc[df['Task'] == 'X5', 'Duration'].values[0]\n",
    "                x6_final = df.loc[df['Task'] == 'X6', 'Duration'].values[0]\n",
    "                x7_final = df.loc[df['Task'] == 'X7', 'Duration'].values[0]\n",
    "                x18_final = df.loc[df['Task'] == 'X18', 'Duration'].values[0]\n",
    "                x20_final = df.loc[df['Task'] == 'X20', 'Duration'].values[0]\n",
    "                x21_final = df.loc[df['Task'] == 'X21', 'Duration'].values[0]\n",
    "                x22_final = df.loc[df['Task'] == 'X22', 'Duration'].values[0]\n",
    "                x27_final = df.loc[df['Task'] == 'X27', 'Duration'].values[0]\n",
    "\n",
    "                # Append the result for this combination\n",
    "                results.append({\n",
    "                    'X1A': x1a_final,\n",
    "                    'X1B': x1b_final,\n",
    "                    'X1C': x1c_final,\n",
    "                    'X5': x5_final,\n",
    "                    'X6': x6_final,\n",
    "                    'X7': x7_final,\n",
    "                    'X18': x18_final,\n",
    "                    'X20': x20_final,\n",
    "                    'X21': x21_final,\n",
    "                    'X22': x22_final,\n",
    "                    'X27': x27_final,\n",
    "                    'Project Duration': project_duration,\n",
    "                    'Critical Path': critical_path\n",
    "                })\n",
    "\n",
    "    # Convert the results into a DataFrame\n",
    "    results_df = pd.DataFrame(results)\n",
    "    return results_df\n",
    "\n",
    "# Run the optimization and collect results into a DataFrame\n",
    "optimization_results_df = run_optimization_and_collect_results()\n",
    "\n",
    "# Display the resulting DataFrame\n",
    "optimization_results_df"
   ]
  },
  {
   "cell_type": "code",
   "execution_count": 32,
   "id": "8a8cc0f7",
   "metadata": {
    "ExecuteTime": {
     "end_time": "2024-10-04T16:01:26.052328Z",
     "start_time": "2024-10-04T16:01:21.636310Z"
    }
   },
   "outputs": [
    {
     "name": "stdout",
     "output_type": "stream",
     "text": [
      "Please enter the value of x1a duration from 6,16,17,18,19,20,2121\n",
      "Please enter the value of x1b duration from 6,16,17,18,19,20,216\n",
      "Please enter the value of x1c duration from 6,16,17,18,19,20,216\n"
     ]
    }
   ],
   "source": [
    "x1a_duration=int(input(\"Please enter the value of x1a duration from 6,16,17,18,19,20,21\"))\n",
    "x1b_duration=int(input(\"Please enter the value of x1b duration from 6,16,17,18,19,20,21\"))\n",
    "x1c_duration=int(input(\"Please enter the value of x1c duration from 6,16,17,18,19,20,21\"))\n",
    "matching_row = optimization_results_df[\n",
    "    (optimization_results_df['X1A'] == x1a_duration) &\n",
    "    (optimization_results_df['X1B'] == x1b_duration) &\n",
    "    (optimization_results_df['X1C'] == x1c_duration)\n",
    "]\n",
    "\n",
    "x5_value = matching_row['X5'].values[0]\n",
    "x6_value = matching_row['X6'].values[0]\n",
    "x7_value = matching_row['X7'].values[0]\n",
    "x18_value = matching_row['X18'].values[0]\n",
    "x20_value = matching_row['X20'].values[0]\n",
    "x21_value = matching_row['X21'].values[0]\n",
    "x22_value = matching_row['X22'].values[0]\n",
    "x27_value = matching_row['X27'].values[0]"
   ]
  },
  {
   "cell_type": "code",
   "execution_count": 33,
   "id": "58df29ce",
   "metadata": {
    "ExecuteTime": {
     "end_time": "2024-10-04T16:01:26.074322Z",
     "start_time": "2024-10-04T16:01:26.053899Z"
    }
   },
   "outputs": [],
   "source": [
    "#Analysing first case\n",
    "task = [('X1A',{'Duration':x1a_duration}),('X1B',{'Duration':x1b_duration}),('X1C',{'Duration':x1c_duration}),('X2',{'Duration':1}),('X3',{'Duration':1}),\n",
    "        ('X4',{'Duration':1}),('X5',{'Duration':x5_value}),('X6',{'Duration':x6_value}),('X7',{'Duration':x7_value}),('X8',{'Duration':1}),\n",
    "        ('X9',{'Duration':2}),('X10',{'Duration':1}),('X11',{'Duration':1}),('X12',{'Duration':1}),('X13',{'Duration':1}),\n",
    "        ('X14',{'Duration':5}),('X15',{'Duration':7}),('X16',{'Duration':5}),('X17',{'Duration':7}),('X18',{'Duration':x18_value}),\n",
    "        ('X19',{'Duration':7}),('X20',{'Duration':x20_value}),('X21',{'Duration':x21_value}),('X22',{'Duration':x22_value}),('X23',{'Duration':6}),\n",
    "        ('X24',{'Duration':8}),('X25',{'Duration':2}),('X26',{'Duration':4}),('X27',{'Duration':x27_value}),('X28',{'Duration':7}),\n",
    "        ]\n",
    "\n",
    "# Define dependency\n",
    "depend = [('X1A','X2'),('X1A','X5'),('X1B','X3'),('X1B','X6'),('X1C','X4'),('X1C','X7'),\n",
    "          ('X2','X8'),('X5','X8'),('X3','X9'),('X6','X9'),('X4','X10'),('X7','X10'),('X8','X11'),('X8','X14'),('X9','X12'),\n",
    "          ('X9','X15'),('X10','X13'),('X10','X16'),('X11','X17'),('X14','X17'),('X12','X18'),('X15','X18'),('X13','X19'),\n",
    "          ('X16','X19'),('X17','X20'),('X18','X21'),('X19','X22'),('X17','X23'),('X18','X24'),('X23','X25'),('X24','X25'),\n",
    "          ('X25','X26'),('X25','X27'),('X20','X28'),('X26','X28'),('X27','X28'),('X21','X28'),('X22','X28')]"
   ]
  },
  {
   "cell_type": "code",
   "execution_count": 34,
   "id": "a2dd8e5c",
   "metadata": {
    "ExecuteTime": {
     "end_time": "2024-10-04T16:01:26.083981Z",
     "start_time": "2024-10-04T16:01:26.076422Z"
    }
   },
   "outputs": [],
   "source": [
    "# Create task dictionary\n",
    "taskDict = {t[0]: t[1]['Duration'] for t in task}\n",
    "\n",
    "# Create predecessor and successor dictionaries\n",
    "predecessors = {t[0]: [] for t in task}\n",
    "successors = {t[0]: [] for t in task}\n",
    "\n",
    "# Populate predecessor and successor dictionaries\n",
    "for dep in depend:\n",
    "    predecessors[dep[1]].append(dep[0])\n",
    "    successors[dep[0]].append(dep[1])\n",
    "\n",
    "# Convert the data into a DataFrame for easy viewing\n",
    "data = {\n",
    "    'Task': list(taskDict.keys()),\n",
    "    'Duration': list(taskDict.values()),\n",
    "    'Predecessors': [', '.join(predecessors[task]) if predecessors[task] else 'None' for task in taskDict],\n",
    "    'Successors': [', '.join(successors[task]) if successors[task] else 'None' for task in taskDict]\n",
    "}\n",
    "\n",
    "df = pd.DataFrame(data)"
   ]
  },
  {
   "cell_type": "code",
   "execution_count": 35,
   "id": "7cc12669",
   "metadata": {
    "ExecuteTime": {
     "end_time": "2024-10-04T16:01:26.124367Z",
     "start_time": "2024-10-04T16:01:26.086308Z"
    }
   },
   "outputs": [
    {
     "data": {
      "text/html": [
       "<div>\n",
       "<style scoped>\n",
       "    .dataframe tbody tr th:only-of-type {\n",
       "        vertical-align: middle;\n",
       "    }\n",
       "\n",
       "    .dataframe tbody tr th {\n",
       "        vertical-align: top;\n",
       "    }\n",
       "\n",
       "    .dataframe thead th {\n",
       "        text-align: right;\n",
       "    }\n",
       "</style>\n",
       "<table border=\"1\" class=\"dataframe\">\n",
       "  <thead>\n",
       "    <tr style=\"text-align: right;\">\n",
       "      <th></th>\n",
       "      <th>Task</th>\n",
       "      <th>Duration</th>\n",
       "      <th>Predecessors</th>\n",
       "      <th>Successors</th>\n",
       "      <th>ES</th>\n",
       "      <th>EF</th>\n",
       "      <th>LS</th>\n",
       "      <th>LF</th>\n",
       "      <th>Slack</th>\n",
       "      <th>Critical</th>\n",
       "    </tr>\n",
       "  </thead>\n",
       "  <tbody>\n",
       "    <tr>\n",
       "      <th>0</th>\n",
       "      <td>X1A</td>\n",
       "      <td>21</td>\n",
       "      <td>None</td>\n",
       "      <td>X2, X5</td>\n",
       "      <td>0</td>\n",
       "      <td>21</td>\n",
       "      <td>0</td>\n",
       "      <td>21</td>\n",
       "      <td>0</td>\n",
       "      <td>True</td>\n",
       "    </tr>\n",
       "    <tr>\n",
       "      <th>1</th>\n",
       "      <td>X1B</td>\n",
       "      <td>6</td>\n",
       "      <td>None</td>\n",
       "      <td>X3, X6</td>\n",
       "      <td>0</td>\n",
       "      <td>6</td>\n",
       "      <td>11</td>\n",
       "      <td>17</td>\n",
       "      <td>11</td>\n",
       "      <td>False</td>\n",
       "    </tr>\n",
       "    <tr>\n",
       "      <th>2</th>\n",
       "      <td>X1C</td>\n",
       "      <td>6</td>\n",
       "      <td>None</td>\n",
       "      <td>X4, X7</td>\n",
       "      <td>0</td>\n",
       "      <td>6</td>\n",
       "      <td>24</td>\n",
       "      <td>30</td>\n",
       "      <td>24</td>\n",
       "      <td>False</td>\n",
       "    </tr>\n",
       "    <tr>\n",
       "      <th>3</th>\n",
       "      <td>X2</td>\n",
       "      <td>1</td>\n",
       "      <td>X1A</td>\n",
       "      <td>X8</td>\n",
       "      <td>21</td>\n",
       "      <td>22</td>\n",
       "      <td>22</td>\n",
       "      <td>23</td>\n",
       "      <td>1</td>\n",
       "      <td>False</td>\n",
       "    </tr>\n",
       "    <tr>\n",
       "      <th>4</th>\n",
       "      <td>X3</td>\n",
       "      <td>1</td>\n",
       "      <td>X1B</td>\n",
       "      <td>X9</td>\n",
       "      <td>6</td>\n",
       "      <td>7</td>\n",
       "      <td>19</td>\n",
       "      <td>20</td>\n",
       "      <td>13</td>\n",
       "      <td>False</td>\n",
       "    </tr>\n",
       "    <tr>\n",
       "      <th>5</th>\n",
       "      <td>X4</td>\n",
       "      <td>1</td>\n",
       "      <td>X1C</td>\n",
       "      <td>X10</td>\n",
       "      <td>6</td>\n",
       "      <td>7</td>\n",
       "      <td>31</td>\n",
       "      <td>32</td>\n",
       "      <td>25</td>\n",
       "      <td>False</td>\n",
       "    </tr>\n",
       "    <tr>\n",
       "      <th>6</th>\n",
       "      <td>X5</td>\n",
       "      <td>2</td>\n",
       "      <td>X1A</td>\n",
       "      <td>X8</td>\n",
       "      <td>21</td>\n",
       "      <td>23</td>\n",
       "      <td>21</td>\n",
       "      <td>23</td>\n",
       "      <td>0</td>\n",
       "      <td>True</td>\n",
       "    </tr>\n",
       "    <tr>\n",
       "      <th>7</th>\n",
       "      <td>X6</td>\n",
       "      <td>3</td>\n",
       "      <td>X1B</td>\n",
       "      <td>X9</td>\n",
       "      <td>6</td>\n",
       "      <td>9</td>\n",
       "      <td>17</td>\n",
       "      <td>20</td>\n",
       "      <td>11</td>\n",
       "      <td>False</td>\n",
       "    </tr>\n",
       "    <tr>\n",
       "      <th>8</th>\n",
       "      <td>X7</td>\n",
       "      <td>2</td>\n",
       "      <td>X1C</td>\n",
       "      <td>X10</td>\n",
       "      <td>6</td>\n",
       "      <td>8</td>\n",
       "      <td>30</td>\n",
       "      <td>32</td>\n",
       "      <td>24</td>\n",
       "      <td>False</td>\n",
       "    </tr>\n",
       "    <tr>\n",
       "      <th>9</th>\n",
       "      <td>X8</td>\n",
       "      <td>1</td>\n",
       "      <td>X2, X5</td>\n",
       "      <td>X11, X14</td>\n",
       "      <td>23</td>\n",
       "      <td>24</td>\n",
       "      <td>23</td>\n",
       "      <td>24</td>\n",
       "      <td>0</td>\n",
       "      <td>True</td>\n",
       "    </tr>\n",
       "    <tr>\n",
       "      <th>10</th>\n",
       "      <td>X9</td>\n",
       "      <td>2</td>\n",
       "      <td>X3, X6</td>\n",
       "      <td>X12, X15</td>\n",
       "      <td>9</td>\n",
       "      <td>11</td>\n",
       "      <td>20</td>\n",
       "      <td>22</td>\n",
       "      <td>11</td>\n",
       "      <td>False</td>\n",
       "    </tr>\n",
       "    <tr>\n",
       "      <th>11</th>\n",
       "      <td>X10</td>\n",
       "      <td>1</td>\n",
       "      <td>X4, X7</td>\n",
       "      <td>X13, X16</td>\n",
       "      <td>8</td>\n",
       "      <td>9</td>\n",
       "      <td>32</td>\n",
       "      <td>33</td>\n",
       "      <td>24</td>\n",
       "      <td>False</td>\n",
       "    </tr>\n",
       "    <tr>\n",
       "      <th>12</th>\n",
       "      <td>X11</td>\n",
       "      <td>1</td>\n",
       "      <td>X8</td>\n",
       "      <td>X17</td>\n",
       "      <td>24</td>\n",
       "      <td>25</td>\n",
       "      <td>28</td>\n",
       "      <td>29</td>\n",
       "      <td>4</td>\n",
       "      <td>False</td>\n",
       "    </tr>\n",
       "    <tr>\n",
       "      <th>13</th>\n",
       "      <td>X12</td>\n",
       "      <td>1</td>\n",
       "      <td>X9</td>\n",
       "      <td>X18</td>\n",
       "      <td>11</td>\n",
       "      <td>12</td>\n",
       "      <td>28</td>\n",
       "      <td>29</td>\n",
       "      <td>17</td>\n",
       "      <td>False</td>\n",
       "    </tr>\n",
       "    <tr>\n",
       "      <th>14</th>\n",
       "      <td>X13</td>\n",
       "      <td>1</td>\n",
       "      <td>X10</td>\n",
       "      <td>X19</td>\n",
       "      <td>9</td>\n",
       "      <td>10</td>\n",
       "      <td>37</td>\n",
       "      <td>38</td>\n",
       "      <td>28</td>\n",
       "      <td>False</td>\n",
       "    </tr>\n",
       "    <tr>\n",
       "      <th>15</th>\n",
       "      <td>X14</td>\n",
       "      <td>5</td>\n",
       "      <td>X8</td>\n",
       "      <td>X17</td>\n",
       "      <td>24</td>\n",
       "      <td>29</td>\n",
       "      <td>24</td>\n",
       "      <td>29</td>\n",
       "      <td>0</td>\n",
       "      <td>True</td>\n",
       "    </tr>\n",
       "    <tr>\n",
       "      <th>16</th>\n",
       "      <td>X15</td>\n",
       "      <td>7</td>\n",
       "      <td>X9</td>\n",
       "      <td>X18</td>\n",
       "      <td>11</td>\n",
       "      <td>18</td>\n",
       "      <td>22</td>\n",
       "      <td>29</td>\n",
       "      <td>11</td>\n",
       "      <td>False</td>\n",
       "    </tr>\n",
       "    <tr>\n",
       "      <th>17</th>\n",
       "      <td>X16</td>\n",
       "      <td>5</td>\n",
       "      <td>X10</td>\n",
       "      <td>X19</td>\n",
       "      <td>9</td>\n",
       "      <td>14</td>\n",
       "      <td>33</td>\n",
       "      <td>38</td>\n",
       "      <td>24</td>\n",
       "      <td>False</td>\n",
       "    </tr>\n",
       "    <tr>\n",
       "      <th>18</th>\n",
       "      <td>X17</td>\n",
       "      <td>7</td>\n",
       "      <td>X11, X14</td>\n",
       "      <td>X20, X23</td>\n",
       "      <td>29</td>\n",
       "      <td>36</td>\n",
       "      <td>29</td>\n",
       "      <td>36</td>\n",
       "      <td>0</td>\n",
       "      <td>True</td>\n",
       "    </tr>\n",
       "    <tr>\n",
       "      <th>19</th>\n",
       "      <td>X18</td>\n",
       "      <td>5</td>\n",
       "      <td>X12, X15</td>\n",
       "      <td>X21, X24</td>\n",
       "      <td>18</td>\n",
       "      <td>23</td>\n",
       "      <td>29</td>\n",
       "      <td>34</td>\n",
       "      <td>11</td>\n",
       "      <td>False</td>\n",
       "    </tr>\n",
       "    <tr>\n",
       "      <th>20</th>\n",
       "      <td>X19</td>\n",
       "      <td>7</td>\n",
       "      <td>X13, X16</td>\n",
       "      <td>X22</td>\n",
       "      <td>14</td>\n",
       "      <td>21</td>\n",
       "      <td>38</td>\n",
       "      <td>45</td>\n",
       "      <td>24</td>\n",
       "      <td>False</td>\n",
       "    </tr>\n",
       "    <tr>\n",
       "      <th>21</th>\n",
       "      <td>X20</td>\n",
       "      <td>3</td>\n",
       "      <td>X17</td>\n",
       "      <td>X28</td>\n",
       "      <td>36</td>\n",
       "      <td>39</td>\n",
       "      <td>45</td>\n",
       "      <td>48</td>\n",
       "      <td>9</td>\n",
       "      <td>False</td>\n",
       "    </tr>\n",
       "    <tr>\n",
       "      <th>22</th>\n",
       "      <td>X21</td>\n",
       "      <td>5</td>\n",
       "      <td>X18</td>\n",
       "      <td>X28</td>\n",
       "      <td>23</td>\n",
       "      <td>28</td>\n",
       "      <td>43</td>\n",
       "      <td>48</td>\n",
       "      <td>20</td>\n",
       "      <td>False</td>\n",
       "    </tr>\n",
       "    <tr>\n",
       "      <th>23</th>\n",
       "      <td>X22</td>\n",
       "      <td>3</td>\n",
       "      <td>X19</td>\n",
       "      <td>X28</td>\n",
       "      <td>21</td>\n",
       "      <td>24</td>\n",
       "      <td>45</td>\n",
       "      <td>48</td>\n",
       "      <td>24</td>\n",
       "      <td>False</td>\n",
       "    </tr>\n",
       "    <tr>\n",
       "      <th>24</th>\n",
       "      <td>X23</td>\n",
       "      <td>6</td>\n",
       "      <td>X17</td>\n",
       "      <td>X25</td>\n",
       "      <td>36</td>\n",
       "      <td>42</td>\n",
       "      <td>36</td>\n",
       "      <td>42</td>\n",
       "      <td>0</td>\n",
       "      <td>True</td>\n",
       "    </tr>\n",
       "    <tr>\n",
       "      <th>25</th>\n",
       "      <td>X24</td>\n",
       "      <td>8</td>\n",
       "      <td>X18</td>\n",
       "      <td>X25</td>\n",
       "      <td>23</td>\n",
       "      <td>31</td>\n",
       "      <td>34</td>\n",
       "      <td>42</td>\n",
       "      <td>11</td>\n",
       "      <td>False</td>\n",
       "    </tr>\n",
       "    <tr>\n",
       "      <th>26</th>\n",
       "      <td>X25</td>\n",
       "      <td>2</td>\n",
       "      <td>X23, X24</td>\n",
       "      <td>X26, X27</td>\n",
       "      <td>42</td>\n",
       "      <td>44</td>\n",
       "      <td>42</td>\n",
       "      <td>44</td>\n",
       "      <td>0</td>\n",
       "      <td>True</td>\n",
       "    </tr>\n",
       "    <tr>\n",
       "      <th>27</th>\n",
       "      <td>X26</td>\n",
       "      <td>4</td>\n",
       "      <td>X25</td>\n",
       "      <td>X28</td>\n",
       "      <td>44</td>\n",
       "      <td>48</td>\n",
       "      <td>44</td>\n",
       "      <td>48</td>\n",
       "      <td>0</td>\n",
       "      <td>True</td>\n",
       "    </tr>\n",
       "    <tr>\n",
       "      <th>28</th>\n",
       "      <td>X27</td>\n",
       "      <td>2</td>\n",
       "      <td>X25</td>\n",
       "      <td>X28</td>\n",
       "      <td>44</td>\n",
       "      <td>46</td>\n",
       "      <td>46</td>\n",
       "      <td>48</td>\n",
       "      <td>2</td>\n",
       "      <td>False</td>\n",
       "    </tr>\n",
       "    <tr>\n",
       "      <th>29</th>\n",
       "      <td>X28</td>\n",
       "      <td>7</td>\n",
       "      <td>X20, X26, X27, X21, X22</td>\n",
       "      <td>None</td>\n",
       "      <td>48</td>\n",
       "      <td>55</td>\n",
       "      <td>48</td>\n",
       "      <td>55</td>\n",
       "      <td>0</td>\n",
       "      <td>True</td>\n",
       "    </tr>\n",
       "  </tbody>\n",
       "</table>\n",
       "</div>"
      ],
      "text/plain": [
       "   Task  Duration             Predecessors Successors  ES  EF  LS  LF  Slack  \\\n",
       "0   X1A        21                     None     X2, X5   0  21   0  21      0   \n",
       "1   X1B         6                     None     X3, X6   0   6  11  17     11   \n",
       "2   X1C         6                     None     X4, X7   0   6  24  30     24   \n",
       "3    X2         1                      X1A         X8  21  22  22  23      1   \n",
       "4    X3         1                      X1B         X9   6   7  19  20     13   \n",
       "5    X4         1                      X1C        X10   6   7  31  32     25   \n",
       "6    X5         2                      X1A         X8  21  23  21  23      0   \n",
       "7    X6         3                      X1B         X9   6   9  17  20     11   \n",
       "8    X7         2                      X1C        X10   6   8  30  32     24   \n",
       "9    X8         1                   X2, X5   X11, X14  23  24  23  24      0   \n",
       "10   X9         2                   X3, X6   X12, X15   9  11  20  22     11   \n",
       "11  X10         1                   X4, X7   X13, X16   8   9  32  33     24   \n",
       "12  X11         1                       X8        X17  24  25  28  29      4   \n",
       "13  X12         1                       X9        X18  11  12  28  29     17   \n",
       "14  X13         1                      X10        X19   9  10  37  38     28   \n",
       "15  X14         5                       X8        X17  24  29  24  29      0   \n",
       "16  X15         7                       X9        X18  11  18  22  29     11   \n",
       "17  X16         5                      X10        X19   9  14  33  38     24   \n",
       "18  X17         7                 X11, X14   X20, X23  29  36  29  36      0   \n",
       "19  X18         5                 X12, X15   X21, X24  18  23  29  34     11   \n",
       "20  X19         7                 X13, X16        X22  14  21  38  45     24   \n",
       "21  X20         3                      X17        X28  36  39  45  48      9   \n",
       "22  X21         5                      X18        X28  23  28  43  48     20   \n",
       "23  X22         3                      X19        X28  21  24  45  48     24   \n",
       "24  X23         6                      X17        X25  36  42  36  42      0   \n",
       "25  X24         8                      X18        X25  23  31  34  42     11   \n",
       "26  X25         2                 X23, X24   X26, X27  42  44  42  44      0   \n",
       "27  X26         4                      X25        X28  44  48  44  48      0   \n",
       "28  X27         2                      X25        X28  44  46  46  48      2   \n",
       "29  X28         7  X20, X26, X27, X21, X22       None  48  55  48  55      0   \n",
       "\n",
       "    Critical  \n",
       "0       True  \n",
       "1      False  \n",
       "2      False  \n",
       "3      False  \n",
       "4      False  \n",
       "5      False  \n",
       "6       True  \n",
       "7      False  \n",
       "8      False  \n",
       "9       True  \n",
       "10     False  \n",
       "11     False  \n",
       "12     False  \n",
       "13     False  \n",
       "14     False  \n",
       "15      True  \n",
       "16     False  \n",
       "17     False  \n",
       "18      True  \n",
       "19     False  \n",
       "20     False  \n",
       "21     False  \n",
       "22     False  \n",
       "23     False  \n",
       "24      True  \n",
       "25     False  \n",
       "26      True  \n",
       "27      True  \n",
       "28     False  \n",
       "29      True  "
      ]
     },
     "execution_count": 35,
     "metadata": {},
     "output_type": "execute_result"
    }
   ],
   "source": [
    "# Process the data\n",
    "df = forward_pass(df)\n",
    "df = backward_pass(df)\n",
    "df = calculate_slack_and_critical(df)\n",
    "\n",
    "# Display the DataFrame\n",
    "df"
   ]
  },
  {
   "cell_type": "code",
   "execution_count": 36,
   "id": "ccddfc19",
   "metadata": {
    "ExecuteTime": {
     "end_time": "2024-10-04T16:01:26.140919Z",
     "start_time": "2024-10-04T16:01:26.125278Z"
    }
   },
   "outputs": [],
   "source": [
    "G = nx.DiGraph()\n",
    "     \n",
    "#add nodes and linkegs\n",
    "G.add_nodes_from(task)\n",
    "G.add_edges_from(depend)"
   ]
  },
  {
   "cell_type": "code",
   "execution_count": 37,
   "id": "8752b817",
   "metadata": {
    "ExecuteTime": {
     "end_time": "2024-10-04T16:01:26.158709Z",
     "start_time": "2024-10-04T16:01:26.142697Z"
    }
   },
   "outputs": [
    {
     "name": "stdout",
     "output_type": "stream",
     "text": [
      "The critical path: ['X1A', 'X5', 'X8', 'X14', 'X17', 'X23', 'X25', 'X26', 'X28']\n",
      "---------------------------------------------\n",
      "The project completion time: 55 weeks\n"
     ]
    }
   ],
   "source": [
    "# initialize the critical path package\n",
    "proj = Node('Project')\n",
    "\n",
    "#add task and duration\n",
    "\n",
    "for t in task:\n",
    "  proj.add(Node(t[0],duration=t[1][\"Duration\"] ))\n",
    "\n",
    "#add dependency\n",
    "\n",
    "for d in depend:\n",
    "  proj.link(d[0],d[1])\n",
    "\n",
    "# update\n",
    "\n",
    "proj.update_all()\n",
    "\n",
    "# proj.get_critical_path() will return a list of nodes\n",
    "# however, we want to store them as strings so that they can be easily used for visualization later\n",
    "\n",
    "crit_path = [str(n) for n in proj.get_critical_path()]\n",
    "\n",
    "# get the project completion time.\n",
    "\n",
    "total_time = proj.duration\n",
    "\n",
    "print(f\"The critical path: {crit_path}\")\n",
    "print(\"-\"*45)\n",
    "print(f\"The project completion time: {total_time} weeks\")"
   ]
  },
  {
   "cell_type": "code",
   "execution_count": 38,
   "id": "ec8b8275",
   "metadata": {
    "ExecuteTime": {
     "end_time": "2024-10-04T16:01:26.225016Z",
     "start_time": "2024-10-04T16:01:26.158709Z"
    }
   },
   "outputs": [
    {
     "data": {
      "application/vnd.plotly.v1+json": {
       "config": {
        "plotlyServerURL": "https://plot.ly"
       },
       "data": [
        {
         "hoverinfo": "none",
         "line": {
          "color": "#888",
          "width": 2
         },
         "mode": "lines",
         "type": "scatter",
         "x": [
          51,
          87,
          null,
          51,
          87,
          null,
          51,
          87,
          null,
          51,
          87,
          null,
          51,
          87,
          null,
          51,
          87,
          null,
          87,
          114,
          null,
          87,
          114,
          null,
          87,
          114,
          null,
          87,
          114,
          null,
          87,
          114,
          null,
          87,
          114,
          null,
          114,
          141,
          null,
          114,
          141,
          null,
          114,
          141,
          null,
          114,
          141,
          null,
          114,
          141,
          null,
          114,
          141,
          null,
          141,
          171,
          null,
          141,
          171,
          null,
          141,
          171,
          null,
          141,
          171,
          null,
          141,
          171,
          null,
          141,
          171,
          null,
          171,
          204,
          null,
          171,
          204,
          null,
          171,
          204,
          null,
          171,
          204,
          null,
          171,
          204,
          null,
          204,
          288,
          null,
          204,
          288,
          null,
          204,
          288,
          null,
          204,
          231,
          null,
          204,
          231,
          null,
          231,
          261,
          null,
          231,
          261,
          null,
          261,
          288,
          null,
          261,
          288,
          null
         ],
         "y": [
          81,
          81,
          null,
          81,
          66,
          null,
          54,
          54,
          null,
          54,
          39,
          null,
          24,
          27,
          null,
          24,
          12,
          null,
          81,
          75,
          null,
          54,
          48,
          null,
          27,
          18,
          null,
          66,
          75,
          null,
          39,
          48,
          null,
          12,
          18,
          null,
          75,
          81,
          null,
          75,
          69,
          null,
          48,
          54,
          null,
          48,
          39,
          null,
          18,
          24,
          null,
          18,
          12,
          null,
          81,
          75,
          null,
          54,
          48,
          null,
          24,
          18,
          null,
          69,
          75,
          null,
          39,
          48,
          null,
          12,
          18,
          null,
          75,
          75,
          null,
          75,
          60,
          null,
          48,
          54,
          null,
          48,
          33,
          null,
          18,
          18,
          null,
          75,
          48,
          null,
          54,
          48,
          null,
          18,
          48,
          null,
          60,
          48,
          null,
          33,
          48,
          null,
          48,
          54,
          null,
          48,
          42,
          null,
          54,
          48,
          null,
          42,
          48,
          null
         ]
        },
        {
         "hoverinfo": "none",
         "line": {
          "color": "red",
          "width": 5
         },
         "mode": "lines",
         "type": "scatter",
         "x": [
          51,
          87,
          null,
          87,
          114,
          null,
          114,
          141,
          null,
          141,
          171,
          null,
          171,
          204,
          null,
          204,
          231,
          null,
          231,
          261,
          null,
          261,
          288,
          null
         ],
         "y": [
          81,
          66,
          null,
          66,
          75,
          null,
          75,
          69,
          null,
          69,
          75,
          null,
          75,
          60,
          null,
          60,
          48,
          null,
          48,
          54,
          null,
          54,
          48,
          null
         ]
        },
        {
         "hoverinfo": "text",
         "hovertext": [
          "Task: X1A<br>EST: 0<br>EFT: 21<br>LST: 0<br>LFT: 21<br>Slack: 0",
          "Task: X1B<br>EST: 0<br>EFT: 6<br>LST: 11<br>LFT: 17<br>Slack: 11",
          "Task: X1C<br>EST: 0<br>EFT: 6<br>LST: 24<br>LFT: 30<br>Slack: 24",
          "Task: X2<br>EST: 21<br>EFT: 22<br>LST: 22<br>LFT: 23<br>Slack: 1",
          "Task: X3<br>EST: 6<br>EFT: 7<br>LST: 19<br>LFT: 20<br>Slack: 13",
          "Task: X4<br>EST: 6<br>EFT: 7<br>LST: 31<br>LFT: 32<br>Slack: 25",
          "Task: X5<br>EST: 21<br>EFT: 23<br>LST: 21<br>LFT: 23<br>Slack: 0",
          "Task: X6<br>EST: 6<br>EFT: 9<br>LST: 17<br>LFT: 20<br>Slack: 11",
          "Task: X7<br>EST: 6<br>EFT: 8<br>LST: 30<br>LFT: 32<br>Slack: 24",
          "Task: X8<br>EST: 23<br>EFT: 24<br>LST: 23<br>LFT: 24<br>Slack: 0",
          "Task: X9<br>EST: 9<br>EFT: 11<br>LST: 20<br>LFT: 22<br>Slack: 11",
          "Task: X10<br>EST: 8<br>EFT: 9<br>LST: 32<br>LFT: 33<br>Slack: 24",
          "Task: X11<br>EST: 24<br>EFT: 25<br>LST: 28<br>LFT: 29<br>Slack: 4",
          "Task: X12<br>EST: 11<br>EFT: 12<br>LST: 28<br>LFT: 29<br>Slack: 17",
          "Task: X13<br>EST: 9<br>EFT: 10<br>LST: 37<br>LFT: 38<br>Slack: 28",
          "Task: X14<br>EST: 24<br>EFT: 29<br>LST: 24<br>LFT: 29<br>Slack: 0",
          "Task: X15<br>EST: 11<br>EFT: 18<br>LST: 22<br>LFT: 29<br>Slack: 11",
          "Task: X16<br>EST: 9<br>EFT: 14<br>LST: 33<br>LFT: 38<br>Slack: 24",
          "Task: X17<br>EST: 29<br>EFT: 36<br>LST: 29<br>LFT: 36<br>Slack: 0",
          "Task: X18<br>EST: 18<br>EFT: 23<br>LST: 29<br>LFT: 34<br>Slack: 11",
          "Task: X19<br>EST: 14<br>EFT: 21<br>LST: 38<br>LFT: 45<br>Slack: 24",
          "Task: X20<br>EST: 36<br>EFT: 39<br>LST: 45<br>LFT: 48<br>Slack: 9",
          "Task: X21<br>EST: 23<br>EFT: 28<br>LST: 43<br>LFT: 48<br>Slack: 20",
          "Task: X22<br>EST: 21<br>EFT: 24<br>LST: 45<br>LFT: 48<br>Slack: 24",
          "Task: X23<br>EST: 36<br>EFT: 42<br>LST: 36<br>LFT: 42<br>Slack: 0",
          "Task: X24<br>EST: 23<br>EFT: 31<br>LST: 34<br>LFT: 42<br>Slack: 11",
          "Task: X25<br>EST: 42<br>EFT: 44<br>LST: 42<br>LFT: 44<br>Slack: 0",
          "Task: X26<br>EST: 44<br>EFT: 48<br>LST: 44<br>LFT: 48<br>Slack: 0",
          "Task: X27<br>EST: 44<br>EFT: 46<br>LST: 46<br>LFT: 48<br>Slack: 2",
          "Task: X28<br>EST: 48<br>EFT: 55<br>LST: 48<br>LFT: 55<br>Slack: 0"
         ],
         "mode": "markers+text",
         "text": [
          "X1A",
          "X1B",
          "X1C",
          "X2",
          "X3",
          "X4",
          "X5",
          "X6",
          "X7",
          "X8",
          "X9",
          "X10",
          "X11",
          "X12",
          "X13",
          "X14",
          "X15",
          "X16",
          "X17",
          "X18",
          "X19",
          "X20",
          "X21",
          "X22",
          "X23",
          "X24",
          "X25",
          "X26",
          "X27",
          "X28"
         ],
         "textposition": "bottom center",
         "type": "scatter",
         "x": [
          51,
          51,
          51,
          87,
          87,
          87,
          87,
          87,
          87,
          114,
          114,
          114,
          141,
          141,
          141,
          141,
          141,
          141,
          171,
          171,
          171,
          204,
          204,
          204,
          204,
          204,
          231,
          261,
          261,
          288
         ],
         "y": [
          81,
          54,
          24,
          81,
          54,
          27,
          66,
          39,
          12,
          75,
          48,
          18,
          81,
          54,
          24,
          69,
          39,
          12,
          75,
          48,
          18,
          75,
          54,
          18,
          60,
          33,
          48,
          54,
          42,
          48
         ]
        }
       ],
       "layout": {
        "annotations": [
         {
          "showarrow": false,
          "text": "Critical Path Network",
          "x": 0.005,
          "xref": "paper",
          "y": -0.002,
          "yref": "paper"
         }
        ],
        "hovermode": "closest",
        "margin": {
         "b": 0,
         "l": 0,
         "r": 0,
         "t": 0
        },
        "showlegend": false,
        "template": {
         "data": {
          "bar": [
           {
            "error_x": {
             "color": "#2a3f5f"
            },
            "error_y": {
             "color": "#2a3f5f"
            },
            "marker": {
             "line": {
              "color": "#E5ECF6",
              "width": 0.5
             },
             "pattern": {
              "fillmode": "overlay",
              "size": 10,
              "solidity": 0.2
             }
            },
            "type": "bar"
           }
          ],
          "barpolar": [
           {
            "marker": {
             "line": {
              "color": "#E5ECF6",
              "width": 0.5
             },
             "pattern": {
              "fillmode": "overlay",
              "size": 10,
              "solidity": 0.2
             }
            },
            "type": "barpolar"
           }
          ],
          "carpet": [
           {
            "aaxis": {
             "endlinecolor": "#2a3f5f",
             "gridcolor": "white",
             "linecolor": "white",
             "minorgridcolor": "white",
             "startlinecolor": "#2a3f5f"
            },
            "baxis": {
             "endlinecolor": "#2a3f5f",
             "gridcolor": "white",
             "linecolor": "white",
             "minorgridcolor": "white",
             "startlinecolor": "#2a3f5f"
            },
            "type": "carpet"
           }
          ],
          "choropleth": [
           {
            "colorbar": {
             "outlinewidth": 0,
             "ticks": ""
            },
            "type": "choropleth"
           }
          ],
          "contour": [
           {
            "colorbar": {
             "outlinewidth": 0,
             "ticks": ""
            },
            "colorscale": [
             [
              0,
              "#0d0887"
             ],
             [
              0.1111111111111111,
              "#46039f"
             ],
             [
              0.2222222222222222,
              "#7201a8"
             ],
             [
              0.3333333333333333,
              "#9c179e"
             ],
             [
              0.4444444444444444,
              "#bd3786"
             ],
             [
              0.5555555555555556,
              "#d8576b"
             ],
             [
              0.6666666666666666,
              "#ed7953"
             ],
             [
              0.7777777777777778,
              "#fb9f3a"
             ],
             [
              0.8888888888888888,
              "#fdca26"
             ],
             [
              1,
              "#f0f921"
             ]
            ],
            "type": "contour"
           }
          ],
          "contourcarpet": [
           {
            "colorbar": {
             "outlinewidth": 0,
             "ticks": ""
            },
            "type": "contourcarpet"
           }
          ],
          "heatmap": [
           {
            "colorbar": {
             "outlinewidth": 0,
             "ticks": ""
            },
            "colorscale": [
             [
              0,
              "#0d0887"
             ],
             [
              0.1111111111111111,
              "#46039f"
             ],
             [
              0.2222222222222222,
              "#7201a8"
             ],
             [
              0.3333333333333333,
              "#9c179e"
             ],
             [
              0.4444444444444444,
              "#bd3786"
             ],
             [
              0.5555555555555556,
              "#d8576b"
             ],
             [
              0.6666666666666666,
              "#ed7953"
             ],
             [
              0.7777777777777778,
              "#fb9f3a"
             ],
             [
              0.8888888888888888,
              "#fdca26"
             ],
             [
              1,
              "#f0f921"
             ]
            ],
            "type": "heatmap"
           }
          ],
          "heatmapgl": [
           {
            "colorbar": {
             "outlinewidth": 0,
             "ticks": ""
            },
            "colorscale": [
             [
              0,
              "#0d0887"
             ],
             [
              0.1111111111111111,
              "#46039f"
             ],
             [
              0.2222222222222222,
              "#7201a8"
             ],
             [
              0.3333333333333333,
              "#9c179e"
             ],
             [
              0.4444444444444444,
              "#bd3786"
             ],
             [
              0.5555555555555556,
              "#d8576b"
             ],
             [
              0.6666666666666666,
              "#ed7953"
             ],
             [
              0.7777777777777778,
              "#fb9f3a"
             ],
             [
              0.8888888888888888,
              "#fdca26"
             ],
             [
              1,
              "#f0f921"
             ]
            ],
            "type": "heatmapgl"
           }
          ],
          "histogram": [
           {
            "marker": {
             "pattern": {
              "fillmode": "overlay",
              "size": 10,
              "solidity": 0.2
             }
            },
            "type": "histogram"
           }
          ],
          "histogram2d": [
           {
            "colorbar": {
             "outlinewidth": 0,
             "ticks": ""
            },
            "colorscale": [
             [
              0,
              "#0d0887"
             ],
             [
              0.1111111111111111,
              "#46039f"
             ],
             [
              0.2222222222222222,
              "#7201a8"
             ],
             [
              0.3333333333333333,
              "#9c179e"
             ],
             [
              0.4444444444444444,
              "#bd3786"
             ],
             [
              0.5555555555555556,
              "#d8576b"
             ],
             [
              0.6666666666666666,
              "#ed7953"
             ],
             [
              0.7777777777777778,
              "#fb9f3a"
             ],
             [
              0.8888888888888888,
              "#fdca26"
             ],
             [
              1,
              "#f0f921"
             ]
            ],
            "type": "histogram2d"
           }
          ],
          "histogram2dcontour": [
           {
            "colorbar": {
             "outlinewidth": 0,
             "ticks": ""
            },
            "colorscale": [
             [
              0,
              "#0d0887"
             ],
             [
              0.1111111111111111,
              "#46039f"
             ],
             [
              0.2222222222222222,
              "#7201a8"
             ],
             [
              0.3333333333333333,
              "#9c179e"
             ],
             [
              0.4444444444444444,
              "#bd3786"
             ],
             [
              0.5555555555555556,
              "#d8576b"
             ],
             [
              0.6666666666666666,
              "#ed7953"
             ],
             [
              0.7777777777777778,
              "#fb9f3a"
             ],
             [
              0.8888888888888888,
              "#fdca26"
             ],
             [
              1,
              "#f0f921"
             ]
            ],
            "type": "histogram2dcontour"
           }
          ],
          "mesh3d": [
           {
            "colorbar": {
             "outlinewidth": 0,
             "ticks": ""
            },
            "type": "mesh3d"
           }
          ],
          "parcoords": [
           {
            "line": {
             "colorbar": {
              "outlinewidth": 0,
              "ticks": ""
             }
            },
            "type": "parcoords"
           }
          ],
          "pie": [
           {
            "automargin": true,
            "type": "pie"
           }
          ],
          "scatter": [
           {
            "fillpattern": {
             "fillmode": "overlay",
             "size": 10,
             "solidity": 0.2
            },
            "type": "scatter"
           }
          ],
          "scatter3d": [
           {
            "line": {
             "colorbar": {
              "outlinewidth": 0,
              "ticks": ""
             }
            },
            "marker": {
             "colorbar": {
              "outlinewidth": 0,
              "ticks": ""
             }
            },
            "type": "scatter3d"
           }
          ],
          "scattercarpet": [
           {
            "marker": {
             "colorbar": {
              "outlinewidth": 0,
              "ticks": ""
             }
            },
            "type": "scattercarpet"
           }
          ],
          "scattergeo": [
           {
            "marker": {
             "colorbar": {
              "outlinewidth": 0,
              "ticks": ""
             }
            },
            "type": "scattergeo"
           }
          ],
          "scattergl": [
           {
            "marker": {
             "colorbar": {
              "outlinewidth": 0,
              "ticks": ""
             }
            },
            "type": "scattergl"
           }
          ],
          "scattermapbox": [
           {
            "marker": {
             "colorbar": {
              "outlinewidth": 0,
              "ticks": ""
             }
            },
            "type": "scattermapbox"
           }
          ],
          "scatterpolar": [
           {
            "marker": {
             "colorbar": {
              "outlinewidth": 0,
              "ticks": ""
             }
            },
            "type": "scatterpolar"
           }
          ],
          "scatterpolargl": [
           {
            "marker": {
             "colorbar": {
              "outlinewidth": 0,
              "ticks": ""
             }
            },
            "type": "scatterpolargl"
           }
          ],
          "scatterternary": [
           {
            "marker": {
             "colorbar": {
              "outlinewidth": 0,
              "ticks": ""
             }
            },
            "type": "scatterternary"
           }
          ],
          "surface": [
           {
            "colorbar": {
             "outlinewidth": 0,
             "ticks": ""
            },
            "colorscale": [
             [
              0,
              "#0d0887"
             ],
             [
              0.1111111111111111,
              "#46039f"
             ],
             [
              0.2222222222222222,
              "#7201a8"
             ],
             [
              0.3333333333333333,
              "#9c179e"
             ],
             [
              0.4444444444444444,
              "#bd3786"
             ],
             [
              0.5555555555555556,
              "#d8576b"
             ],
             [
              0.6666666666666666,
              "#ed7953"
             ],
             [
              0.7777777777777778,
              "#fb9f3a"
             ],
             [
              0.8888888888888888,
              "#fdca26"
             ],
             [
              1,
              "#f0f921"
             ]
            ],
            "type": "surface"
           }
          ],
          "table": [
           {
            "cells": {
             "fill": {
              "color": "#EBF0F8"
             },
             "line": {
              "color": "white"
             }
            },
            "header": {
             "fill": {
              "color": "#C8D4E3"
             },
             "line": {
              "color": "white"
             }
            },
            "type": "table"
           }
          ]
         },
         "layout": {
          "annotationdefaults": {
           "arrowcolor": "#2a3f5f",
           "arrowhead": 0,
           "arrowwidth": 1
          },
          "autotypenumbers": "strict",
          "coloraxis": {
           "colorbar": {
            "outlinewidth": 0,
            "ticks": ""
           }
          },
          "colorscale": {
           "diverging": [
            [
             0,
             "#8e0152"
            ],
            [
             0.1,
             "#c51b7d"
            ],
            [
             0.2,
             "#de77ae"
            ],
            [
             0.3,
             "#f1b6da"
            ],
            [
             0.4,
             "#fde0ef"
            ],
            [
             0.5,
             "#f7f7f7"
            ],
            [
             0.6,
             "#e6f5d0"
            ],
            [
             0.7,
             "#b8e186"
            ],
            [
             0.8,
             "#7fbc41"
            ],
            [
             0.9,
             "#4d9221"
            ],
            [
             1,
             "#276419"
            ]
           ],
           "sequential": [
            [
             0,
             "#0d0887"
            ],
            [
             0.1111111111111111,
             "#46039f"
            ],
            [
             0.2222222222222222,
             "#7201a8"
            ],
            [
             0.3333333333333333,
             "#9c179e"
            ],
            [
             0.4444444444444444,
             "#bd3786"
            ],
            [
             0.5555555555555556,
             "#d8576b"
            ],
            [
             0.6666666666666666,
             "#ed7953"
            ],
            [
             0.7777777777777778,
             "#fb9f3a"
            ],
            [
             0.8888888888888888,
             "#fdca26"
            ],
            [
             1,
             "#f0f921"
            ]
           ],
           "sequentialminus": [
            [
             0,
             "#0d0887"
            ],
            [
             0.1111111111111111,
             "#46039f"
            ],
            [
             0.2222222222222222,
             "#7201a8"
            ],
            [
             0.3333333333333333,
             "#9c179e"
            ],
            [
             0.4444444444444444,
             "#bd3786"
            ],
            [
             0.5555555555555556,
             "#d8576b"
            ],
            [
             0.6666666666666666,
             "#ed7953"
            ],
            [
             0.7777777777777778,
             "#fb9f3a"
            ],
            [
             0.8888888888888888,
             "#fdca26"
            ],
            [
             1,
             "#f0f921"
            ]
           ]
          },
          "colorway": [
           "#636efa",
           "#EF553B",
           "#00cc96",
           "#ab63fa",
           "#FFA15A",
           "#19d3f3",
           "#FF6692",
           "#B6E880",
           "#FF97FF",
           "#FECB52"
          ],
          "font": {
           "color": "#2a3f5f"
          },
          "geo": {
           "bgcolor": "white",
           "lakecolor": "white",
           "landcolor": "#E5ECF6",
           "showlakes": true,
           "showland": true,
           "subunitcolor": "white"
          },
          "hoverlabel": {
           "align": "left"
          },
          "hovermode": "closest",
          "mapbox": {
           "style": "light"
          },
          "paper_bgcolor": "white",
          "plot_bgcolor": "#E5ECF6",
          "polar": {
           "angularaxis": {
            "gridcolor": "white",
            "linecolor": "white",
            "ticks": ""
           },
           "bgcolor": "#E5ECF6",
           "radialaxis": {
            "gridcolor": "white",
            "linecolor": "white",
            "ticks": ""
           }
          },
          "scene": {
           "xaxis": {
            "backgroundcolor": "#E5ECF6",
            "gridcolor": "white",
            "gridwidth": 2,
            "linecolor": "white",
            "showbackground": true,
            "ticks": "",
            "zerolinecolor": "white"
           },
           "yaxis": {
            "backgroundcolor": "#E5ECF6",
            "gridcolor": "white",
            "gridwidth": 2,
            "linecolor": "white",
            "showbackground": true,
            "ticks": "",
            "zerolinecolor": "white"
           },
           "zaxis": {
            "backgroundcolor": "#E5ECF6",
            "gridcolor": "white",
            "gridwidth": 2,
            "linecolor": "white",
            "showbackground": true,
            "ticks": "",
            "zerolinecolor": "white"
           }
          },
          "shapedefaults": {
           "line": {
            "color": "#2a3f5f"
           }
          },
          "ternary": {
           "aaxis": {
            "gridcolor": "white",
            "linecolor": "white",
            "ticks": ""
           },
           "baxis": {
            "gridcolor": "white",
            "linecolor": "white",
            "ticks": ""
           },
           "bgcolor": "#E5ECF6",
           "caxis": {
            "gridcolor": "white",
            "linecolor": "white",
            "ticks": ""
           }
          },
          "title": {
           "x": 0.05
          },
          "xaxis": {
           "automargin": true,
           "gridcolor": "white",
           "linecolor": "white",
           "ticks": "",
           "title": {
            "standoff": 15
           },
           "zerolinecolor": "white",
           "zerolinewidth": 2
          },
          "yaxis": {
           "automargin": true,
           "gridcolor": "white",
           "linecolor": "white",
           "ticks": "",
           "title": {
            "standoff": 15
           },
           "zerolinecolor": "white",
           "zerolinewidth": 2
          }
         }
        },
        "title": {
         "font": {
          "size": 16
         },
         "text": "<br>Interactive Critical Path Graph"
        },
        "xaxis": {
         "showgrid": false,
         "zeroline": false
        },
        "yaxis": {
         "showgrid": false,
         "zeroline": false
        }
       }
      },
      "text/html": [
       "<div>                            <div id=\"9be8de66-c92a-492f-9bc8-44b7ad6476e5\" class=\"plotly-graph-div\" style=\"height:525px; width:100%;\"></div>            <script type=\"text/javascript\">                require([\"plotly\"], function(Plotly) {                    window.PLOTLYENV=window.PLOTLYENV || {};                                    if (document.getElementById(\"9be8de66-c92a-492f-9bc8-44b7ad6476e5\")) {                    Plotly.newPlot(                        \"9be8de66-c92a-492f-9bc8-44b7ad6476e5\",                        [{\"hoverinfo\":\"none\",\"line\":{\"color\":\"#888\",\"width\":2},\"mode\":\"lines\",\"x\":[51,87,null,51,87,null,51,87,null,51,87,null,51,87,null,51,87,null,87,114,null,87,114,null,87,114,null,87,114,null,87,114,null,87,114,null,114,141,null,114,141,null,114,141,null,114,141,null,114,141,null,114,141,null,141,171,null,141,171,null,141,171,null,141,171,null,141,171,null,141,171,null,171,204,null,171,204,null,171,204,null,171,204,null,171,204,null,204,288,null,204,288,null,204,288,null,204,231,null,204,231,null,231,261,null,231,261,null,261,288,null,261,288,null],\"y\":[81,81,null,81,66,null,54,54,null,54,39,null,24,27,null,24,12,null,81,75,null,54,48,null,27,18,null,66,75,null,39,48,null,12,18,null,75,81,null,75,69,null,48,54,null,48,39,null,18,24,null,18,12,null,81,75,null,54,48,null,24,18,null,69,75,null,39,48,null,12,18,null,75,75,null,75,60,null,48,54,null,48,33,null,18,18,null,75,48,null,54,48,null,18,48,null,60,48,null,33,48,null,48,54,null,48,42,null,54,48,null,42,48,null],\"type\":\"scatter\"},{\"hoverinfo\":\"none\",\"line\":{\"color\":\"red\",\"width\":5},\"mode\":\"lines\",\"x\":[51,87,null,87,114,null,114,141,null,141,171,null,171,204,null,204,231,null,231,261,null,261,288,null],\"y\":[81,66,null,66,75,null,75,69,null,69,75,null,75,60,null,60,48,null,48,54,null,54,48,null],\"type\":\"scatter\"},{\"hoverinfo\":\"text\",\"hovertext\":[\"Task: X1A<br>EST: 0<br>EFT: 21<br>LST: 0<br>LFT: 21<br>Slack: 0\",\"Task: X1B<br>EST: 0<br>EFT: 6<br>LST: 11<br>LFT: 17<br>Slack: 11\",\"Task: X1C<br>EST: 0<br>EFT: 6<br>LST: 24<br>LFT: 30<br>Slack: 24\",\"Task: X2<br>EST: 21<br>EFT: 22<br>LST: 22<br>LFT: 23<br>Slack: 1\",\"Task: X3<br>EST: 6<br>EFT: 7<br>LST: 19<br>LFT: 20<br>Slack: 13\",\"Task: X4<br>EST: 6<br>EFT: 7<br>LST: 31<br>LFT: 32<br>Slack: 25\",\"Task: X5<br>EST: 21<br>EFT: 23<br>LST: 21<br>LFT: 23<br>Slack: 0\",\"Task: X6<br>EST: 6<br>EFT: 9<br>LST: 17<br>LFT: 20<br>Slack: 11\",\"Task: X7<br>EST: 6<br>EFT: 8<br>LST: 30<br>LFT: 32<br>Slack: 24\",\"Task: X8<br>EST: 23<br>EFT: 24<br>LST: 23<br>LFT: 24<br>Slack: 0\",\"Task: X9<br>EST: 9<br>EFT: 11<br>LST: 20<br>LFT: 22<br>Slack: 11\",\"Task: X10<br>EST: 8<br>EFT: 9<br>LST: 32<br>LFT: 33<br>Slack: 24\",\"Task: X11<br>EST: 24<br>EFT: 25<br>LST: 28<br>LFT: 29<br>Slack: 4\",\"Task: X12<br>EST: 11<br>EFT: 12<br>LST: 28<br>LFT: 29<br>Slack: 17\",\"Task: X13<br>EST: 9<br>EFT: 10<br>LST: 37<br>LFT: 38<br>Slack: 28\",\"Task: X14<br>EST: 24<br>EFT: 29<br>LST: 24<br>LFT: 29<br>Slack: 0\",\"Task: X15<br>EST: 11<br>EFT: 18<br>LST: 22<br>LFT: 29<br>Slack: 11\",\"Task: X16<br>EST: 9<br>EFT: 14<br>LST: 33<br>LFT: 38<br>Slack: 24\",\"Task: X17<br>EST: 29<br>EFT: 36<br>LST: 29<br>LFT: 36<br>Slack: 0\",\"Task: X18<br>EST: 18<br>EFT: 23<br>LST: 29<br>LFT: 34<br>Slack: 11\",\"Task: X19<br>EST: 14<br>EFT: 21<br>LST: 38<br>LFT: 45<br>Slack: 24\",\"Task: X20<br>EST: 36<br>EFT: 39<br>LST: 45<br>LFT: 48<br>Slack: 9\",\"Task: X21<br>EST: 23<br>EFT: 28<br>LST: 43<br>LFT: 48<br>Slack: 20\",\"Task: X22<br>EST: 21<br>EFT: 24<br>LST: 45<br>LFT: 48<br>Slack: 24\",\"Task: X23<br>EST: 36<br>EFT: 42<br>LST: 36<br>LFT: 42<br>Slack: 0\",\"Task: X24<br>EST: 23<br>EFT: 31<br>LST: 34<br>LFT: 42<br>Slack: 11\",\"Task: X25<br>EST: 42<br>EFT: 44<br>LST: 42<br>LFT: 44<br>Slack: 0\",\"Task: X26<br>EST: 44<br>EFT: 48<br>LST: 44<br>LFT: 48<br>Slack: 0\",\"Task: X27<br>EST: 44<br>EFT: 46<br>LST: 46<br>LFT: 48<br>Slack: 2\",\"Task: X28<br>EST: 48<br>EFT: 55<br>LST: 48<br>LFT: 55<br>Slack: 0\"],\"mode\":\"markers+text\",\"text\":[\"X1A\",\"X1B\",\"X1C\",\"X2\",\"X3\",\"X4\",\"X5\",\"X6\",\"X7\",\"X8\",\"X9\",\"X10\",\"X11\",\"X12\",\"X13\",\"X14\",\"X15\",\"X16\",\"X17\",\"X18\",\"X19\",\"X20\",\"X21\",\"X22\",\"X23\",\"X24\",\"X25\",\"X26\",\"X27\",\"X28\"],\"textposition\":\"bottom center\",\"x\":[51,51,51,87,87,87,87,87,87,114,114,114,141,141,141,141,141,141,171,171,171,204,204,204,204,204,231,261,261,288],\"y\":[81,54,24,81,54,27,66,39,12,75,48,18,81,54,24,69,39,12,75,48,18,75,54,18,60,33,48,54,42,48],\"type\":\"scatter\"}],                        {\"annotations\":[{\"showarrow\":false,\"text\":\"Critical Path Network\",\"x\":0.005,\"xref\":\"paper\",\"y\":-0.002,\"yref\":\"paper\"}],\"hovermode\":\"closest\",\"margin\":{\"b\":0,\"l\":0,\"r\":0,\"t\":0},\"showlegend\":false,\"title\":{\"font\":{\"size\":16},\"text\":\"<br>Interactive Critical Path Graph\"},\"xaxis\":{\"showgrid\":false,\"zeroline\":false},\"yaxis\":{\"showgrid\":false,\"zeroline\":false},\"template\":{\"data\":{\"histogram2dcontour\":[{\"type\":\"histogram2dcontour\",\"colorbar\":{\"outlinewidth\":0,\"ticks\":\"\"},\"colorscale\":[[0.0,\"#0d0887\"],[0.1111111111111111,\"#46039f\"],[0.2222222222222222,\"#7201a8\"],[0.3333333333333333,\"#9c179e\"],[0.4444444444444444,\"#bd3786\"],[0.5555555555555556,\"#d8576b\"],[0.6666666666666666,\"#ed7953\"],[0.7777777777777778,\"#fb9f3a\"],[0.8888888888888888,\"#fdca26\"],[1.0,\"#f0f921\"]]}],\"choropleth\":[{\"type\":\"choropleth\",\"colorbar\":{\"outlinewidth\":0,\"ticks\":\"\"}}],\"histogram2d\":[{\"type\":\"histogram2d\",\"colorbar\":{\"outlinewidth\":0,\"ticks\":\"\"},\"colorscale\":[[0.0,\"#0d0887\"],[0.1111111111111111,\"#46039f\"],[0.2222222222222222,\"#7201a8\"],[0.3333333333333333,\"#9c179e\"],[0.4444444444444444,\"#bd3786\"],[0.5555555555555556,\"#d8576b\"],[0.6666666666666666,\"#ed7953\"],[0.7777777777777778,\"#fb9f3a\"],[0.8888888888888888,\"#fdca26\"],[1.0,\"#f0f921\"]]}],\"heatmap\":[{\"type\":\"heatmap\",\"colorbar\":{\"outlinewidth\":0,\"ticks\":\"\"},\"colorscale\":[[0.0,\"#0d0887\"],[0.1111111111111111,\"#46039f\"],[0.2222222222222222,\"#7201a8\"],[0.3333333333333333,\"#9c179e\"],[0.4444444444444444,\"#bd3786\"],[0.5555555555555556,\"#d8576b\"],[0.6666666666666666,\"#ed7953\"],[0.7777777777777778,\"#fb9f3a\"],[0.8888888888888888,\"#fdca26\"],[1.0,\"#f0f921\"]]}],\"heatmapgl\":[{\"type\":\"heatmapgl\",\"colorbar\":{\"outlinewidth\":0,\"ticks\":\"\"},\"colorscale\":[[0.0,\"#0d0887\"],[0.1111111111111111,\"#46039f\"],[0.2222222222222222,\"#7201a8\"],[0.3333333333333333,\"#9c179e\"],[0.4444444444444444,\"#bd3786\"],[0.5555555555555556,\"#d8576b\"],[0.6666666666666666,\"#ed7953\"],[0.7777777777777778,\"#fb9f3a\"],[0.8888888888888888,\"#fdca26\"],[1.0,\"#f0f921\"]]}],\"contourcarpet\":[{\"type\":\"contourcarpet\",\"colorbar\":{\"outlinewidth\":0,\"ticks\":\"\"}}],\"contour\":[{\"type\":\"contour\",\"colorbar\":{\"outlinewidth\":0,\"ticks\":\"\"},\"colorscale\":[[0.0,\"#0d0887\"],[0.1111111111111111,\"#46039f\"],[0.2222222222222222,\"#7201a8\"],[0.3333333333333333,\"#9c179e\"],[0.4444444444444444,\"#bd3786\"],[0.5555555555555556,\"#d8576b\"],[0.6666666666666666,\"#ed7953\"],[0.7777777777777778,\"#fb9f3a\"],[0.8888888888888888,\"#fdca26\"],[1.0,\"#f0f921\"]]}],\"surface\":[{\"type\":\"surface\",\"colorbar\":{\"outlinewidth\":0,\"ticks\":\"\"},\"colorscale\":[[0.0,\"#0d0887\"],[0.1111111111111111,\"#46039f\"],[0.2222222222222222,\"#7201a8\"],[0.3333333333333333,\"#9c179e\"],[0.4444444444444444,\"#bd3786\"],[0.5555555555555556,\"#d8576b\"],[0.6666666666666666,\"#ed7953\"],[0.7777777777777778,\"#fb9f3a\"],[0.8888888888888888,\"#fdca26\"],[1.0,\"#f0f921\"]]}],\"mesh3d\":[{\"type\":\"mesh3d\",\"colorbar\":{\"outlinewidth\":0,\"ticks\":\"\"}}],\"scatter\":[{\"fillpattern\":{\"fillmode\":\"overlay\",\"size\":10,\"solidity\":0.2},\"type\":\"scatter\"}],\"parcoords\":[{\"type\":\"parcoords\",\"line\":{\"colorbar\":{\"outlinewidth\":0,\"ticks\":\"\"}}}],\"scatterpolargl\":[{\"type\":\"scatterpolargl\",\"marker\":{\"colorbar\":{\"outlinewidth\":0,\"ticks\":\"\"}}}],\"bar\":[{\"error_x\":{\"color\":\"#2a3f5f\"},\"error_y\":{\"color\":\"#2a3f5f\"},\"marker\":{\"line\":{\"color\":\"#E5ECF6\",\"width\":0.5},\"pattern\":{\"fillmode\":\"overlay\",\"size\":10,\"solidity\":0.2}},\"type\":\"bar\"}],\"scattergeo\":[{\"type\":\"scattergeo\",\"marker\":{\"colorbar\":{\"outlinewidth\":0,\"ticks\":\"\"}}}],\"scatterpolar\":[{\"type\":\"scatterpolar\",\"marker\":{\"colorbar\":{\"outlinewidth\":0,\"ticks\":\"\"}}}],\"histogram\":[{\"marker\":{\"pattern\":{\"fillmode\":\"overlay\",\"size\":10,\"solidity\":0.2}},\"type\":\"histogram\"}],\"scattergl\":[{\"type\":\"scattergl\",\"marker\":{\"colorbar\":{\"outlinewidth\":0,\"ticks\":\"\"}}}],\"scatter3d\":[{\"type\":\"scatter3d\",\"line\":{\"colorbar\":{\"outlinewidth\":0,\"ticks\":\"\"}},\"marker\":{\"colorbar\":{\"outlinewidth\":0,\"ticks\":\"\"}}}],\"scattermapbox\":[{\"type\":\"scattermapbox\",\"marker\":{\"colorbar\":{\"outlinewidth\":0,\"ticks\":\"\"}}}],\"scatterternary\":[{\"type\":\"scatterternary\",\"marker\":{\"colorbar\":{\"outlinewidth\":0,\"ticks\":\"\"}}}],\"scattercarpet\":[{\"type\":\"scattercarpet\",\"marker\":{\"colorbar\":{\"outlinewidth\":0,\"ticks\":\"\"}}}],\"carpet\":[{\"aaxis\":{\"endlinecolor\":\"#2a3f5f\",\"gridcolor\":\"white\",\"linecolor\":\"white\",\"minorgridcolor\":\"white\",\"startlinecolor\":\"#2a3f5f\"},\"baxis\":{\"endlinecolor\":\"#2a3f5f\",\"gridcolor\":\"white\",\"linecolor\":\"white\",\"minorgridcolor\":\"white\",\"startlinecolor\":\"#2a3f5f\"},\"type\":\"carpet\"}],\"table\":[{\"cells\":{\"fill\":{\"color\":\"#EBF0F8\"},\"line\":{\"color\":\"white\"}},\"header\":{\"fill\":{\"color\":\"#C8D4E3\"},\"line\":{\"color\":\"white\"}},\"type\":\"table\"}],\"barpolar\":[{\"marker\":{\"line\":{\"color\":\"#E5ECF6\",\"width\":0.5},\"pattern\":{\"fillmode\":\"overlay\",\"size\":10,\"solidity\":0.2}},\"type\":\"barpolar\"}],\"pie\":[{\"automargin\":true,\"type\":\"pie\"}]},\"layout\":{\"autotypenumbers\":\"strict\",\"colorway\":[\"#636efa\",\"#EF553B\",\"#00cc96\",\"#ab63fa\",\"#FFA15A\",\"#19d3f3\",\"#FF6692\",\"#B6E880\",\"#FF97FF\",\"#FECB52\"],\"font\":{\"color\":\"#2a3f5f\"},\"hovermode\":\"closest\",\"hoverlabel\":{\"align\":\"left\"},\"paper_bgcolor\":\"white\",\"plot_bgcolor\":\"#E5ECF6\",\"polar\":{\"bgcolor\":\"#E5ECF6\",\"angularaxis\":{\"gridcolor\":\"white\",\"linecolor\":\"white\",\"ticks\":\"\"},\"radialaxis\":{\"gridcolor\":\"white\",\"linecolor\":\"white\",\"ticks\":\"\"}},\"ternary\":{\"bgcolor\":\"#E5ECF6\",\"aaxis\":{\"gridcolor\":\"white\",\"linecolor\":\"white\",\"ticks\":\"\"},\"baxis\":{\"gridcolor\":\"white\",\"linecolor\":\"white\",\"ticks\":\"\"},\"caxis\":{\"gridcolor\":\"white\",\"linecolor\":\"white\",\"ticks\":\"\"}},\"coloraxis\":{\"colorbar\":{\"outlinewidth\":0,\"ticks\":\"\"}},\"colorscale\":{\"sequential\":[[0.0,\"#0d0887\"],[0.1111111111111111,\"#46039f\"],[0.2222222222222222,\"#7201a8\"],[0.3333333333333333,\"#9c179e\"],[0.4444444444444444,\"#bd3786\"],[0.5555555555555556,\"#d8576b\"],[0.6666666666666666,\"#ed7953\"],[0.7777777777777778,\"#fb9f3a\"],[0.8888888888888888,\"#fdca26\"],[1.0,\"#f0f921\"]],\"sequentialminus\":[[0.0,\"#0d0887\"],[0.1111111111111111,\"#46039f\"],[0.2222222222222222,\"#7201a8\"],[0.3333333333333333,\"#9c179e\"],[0.4444444444444444,\"#bd3786\"],[0.5555555555555556,\"#d8576b\"],[0.6666666666666666,\"#ed7953\"],[0.7777777777777778,\"#fb9f3a\"],[0.8888888888888888,\"#fdca26\"],[1.0,\"#f0f921\"]],\"diverging\":[[0,\"#8e0152\"],[0.1,\"#c51b7d\"],[0.2,\"#de77ae\"],[0.3,\"#f1b6da\"],[0.4,\"#fde0ef\"],[0.5,\"#f7f7f7\"],[0.6,\"#e6f5d0\"],[0.7,\"#b8e186\"],[0.8,\"#7fbc41\"],[0.9,\"#4d9221\"],[1,\"#276419\"]]},\"xaxis\":{\"gridcolor\":\"white\",\"linecolor\":\"white\",\"ticks\":\"\",\"title\":{\"standoff\":15},\"zerolinecolor\":\"white\",\"automargin\":true,\"zerolinewidth\":2},\"yaxis\":{\"gridcolor\":\"white\",\"linecolor\":\"white\",\"ticks\":\"\",\"title\":{\"standoff\":15},\"zerolinecolor\":\"white\",\"automargin\":true,\"zerolinewidth\":2},\"scene\":{\"xaxis\":{\"backgroundcolor\":\"#E5ECF6\",\"gridcolor\":\"white\",\"linecolor\":\"white\",\"showbackground\":true,\"ticks\":\"\",\"zerolinecolor\":\"white\",\"gridwidth\":2},\"yaxis\":{\"backgroundcolor\":\"#E5ECF6\",\"gridcolor\":\"white\",\"linecolor\":\"white\",\"showbackground\":true,\"ticks\":\"\",\"zerolinecolor\":\"white\",\"gridwidth\":2},\"zaxis\":{\"backgroundcolor\":\"#E5ECF6\",\"gridcolor\":\"white\",\"linecolor\":\"white\",\"showbackground\":true,\"ticks\":\"\",\"zerolinecolor\":\"white\",\"gridwidth\":2}},\"shapedefaults\":{\"line\":{\"color\":\"#2a3f5f\"}},\"annotationdefaults\":{\"arrowcolor\":\"#2a3f5f\",\"arrowhead\":0,\"arrowwidth\":1},\"geo\":{\"bgcolor\":\"white\",\"landcolor\":\"#E5ECF6\",\"subunitcolor\":\"white\",\"showland\":true,\"showlakes\":true,\"lakecolor\":\"white\"},\"title\":{\"x\":0.05},\"mapbox\":{\"style\":\"light\"}}}},                        {\"responsive\": true}                    ).then(function(){\n",
       "                            \n",
       "var gd = document.getElementById('9be8de66-c92a-492f-9bc8-44b7ad6476e5');\n",
       "var x = new MutationObserver(function (mutations, observer) {{\n",
       "        var display = window.getComputedStyle(gd).display;\n",
       "        if (!display || display === 'none') {{\n",
       "            console.log([gd, 'removed!']);\n",
       "            Plotly.purge(gd);\n",
       "            observer.disconnect();\n",
       "        }}\n",
       "}});\n",
       "\n",
       "// Listen for the removal of the full notebook cells\n",
       "var notebookContainer = gd.closest('#notebook-container');\n",
       "if (notebookContainer) {{\n",
       "    x.observe(notebookContainer, {childList: true});\n",
       "}}\n",
       "\n",
       "// Listen for the clearing of the current output cell\n",
       "var outputEl = gd.closest('.output');\n",
       "if (outputEl) {{\n",
       "    x.observe(outputEl, {childList: true});\n",
       "}}\n",
       "\n",
       "                        })                };                });            </script>        </div>"
      ]
     },
     "metadata": {},
     "output_type": "display_data"
    }
   ],
   "source": [
    "# Define critical edges\n",
    "crit_edges = [(n, crit_path[i+1]) for i, n in enumerate(crit_path[:-1])]\n",
    "\n",
    "# Get edge data for Plotly\n",
    "edge_x = []\n",
    "edge_y = []\n",
    "for edge in G.edges():\n",
    "    x0, y0 = pos_nodes[edge[0]]\n",
    "    x1, y1 = pos_nodes[edge[1]]\n",
    "    edge_x.append(x0)\n",
    "    edge_x.append(x1)\n",
    "    edge_x.append(None)\n",
    "    edge_y.append(y0)\n",
    "    edge_y.append(y1)\n",
    "    edge_y.append(None)\n",
    "\n",
    "# Critical edges (red line)\n",
    "crit_edge_x = []\n",
    "crit_edge_y = []\n",
    "for edge in crit_edges:\n",
    "    x0, y0 = pos_nodes[edge[0]]\n",
    "    x1, y1 = pos_nodes[edge[1]]\n",
    "    crit_edge_x.append(x0)\n",
    "    crit_edge_x.append(x1)\n",
    "    crit_edge_x.append(None)\n",
    "    crit_edge_y.append(y0)\n",
    "    crit_edge_y.append(y1)\n",
    "    crit_edge_y.append(None)\n",
    "\n",
    "# Trace for regular edges\n",
    "edge_trace = go.Scatter(\n",
    "    x=edge_x, y=edge_y,\n",
    "    line=dict(width=2, color='#888'),\n",
    "    hoverinfo='none',\n",
    "    mode='lines')\n",
    "\n",
    "# Trace for critical edges\n",
    "crit_edge_trace = go.Scatter(\n",
    "    x=crit_edge_x, y=crit_edge_y,\n",
    "    line=dict(width=5, color='red'),\n",
    "    hoverinfo='none',\n",
    "    mode='lines')\n",
    "\n",
    "# Node trace\n",
    "node_x = []\n",
    "node_y = []\n",
    "for node in G.nodes():\n",
    "    x, y = pos_nodes[node]\n",
    "    node_x.append(x)\n",
    "    node_y.append(y)\n",
    "\n",
    "# Set hover text with EST, EFT, LST, LFT, Slack from pandas DataFrame\n",
    "node_text = []\n",
    "for node in G.nodes():\n",
    "    est = df[df['Task'] == node]['ES'].values[0]\n",
    "    eft = df[df['Task'] == node]['EF'].values[0]\n",
    "    lst = df[df['Task'] == node]['LS'].values[0]\n",
    "    lft = df[df['Task'] == node]['LF'].values[0]\n",
    "    slack = df[df['Task'] == node]['Slack'].values[0]\n",
    "\n",
    "    node_text.append(f\"Task: {node}<br>\"\n",
    "                     f\"EST: {est}<br>\"\n",
    "                     f\"EFT: {eft}<br>\"\n",
    "                     f\"LST: {lst}<br>\"\n",
    "                     f\"LFT: {lft}<br>\"\n",
    "                     f\"Slack: {slack}\")\n",
    "\n",
    "# Node trace for Plotly with hover text\n",
    "node_trace = go.Scatter(\n",
    "    x=node_x, y=node_y,\n",
    "    mode='markers+text',\n",
    "    textposition='bottom center',\n",
    "    hoverinfo='text',\n",
    "    text=[node for node in G.nodes()],\n",
    "    hovertext=node_text,\n",
    ")\n",
    "\n",
    "# Create figure with regular and critical edges\n",
    "fig = go.Figure(data=[edge_trace, crit_edge_trace, node_trace],\n",
    "                layout=go.Layout(\n",
    "                    title='<br>Interactive Critical Path Graph',\n",
    "                    titlefont_size=16,\n",
    "                    showlegend=False,\n",
    "                    hovermode='closest',\n",
    "                    margin=dict(b=0, l=0, r=0, t=0),\n",
    "                    annotations=[dict(\n",
    "                        text=\"Critical Path Network\",\n",
    "                        showarrow=False,\n",
    "                        xref=\"paper\", yref=\"paper\",\n",
    "                        x=0.005, y=-0.002\n",
    "                    )],\n",
    "                    xaxis=dict(showgrid=False, zeroline=False),\n",
    "                    yaxis=dict(showgrid=False, zeroline=False))\n",
    "                )\n",
    "\n",
    "fig.show()\n"
   ]
  },
  {
   "cell_type": "code",
   "execution_count": null,
   "id": "8d026bdd",
   "metadata": {},
   "outputs": [],
   "source": []
  }
 ],
 "metadata": {
  "kernelspec": {
   "display_name": "Python 3 (ipykernel)",
   "language": "python",
   "name": "python3"
  },
  "language_info": {
   "codemirror_mode": {
    "name": "ipython",
    "version": 3
   },
   "file_extension": ".py",
   "mimetype": "text/x-python",
   "name": "python",
   "nbconvert_exporter": "python",
   "pygments_lexer": "ipython3",
   "version": "3.9.18"
  }
 },
 "nbformat": 4,
 "nbformat_minor": 5
}
